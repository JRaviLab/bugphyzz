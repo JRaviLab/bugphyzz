{
 "cells": [
  {
   "cell_type": "markdown",
   "id": "2d65dd70-d8ca-42b6-aa32-31fb6f394a51",
   "metadata": {},
   "source": [
    "# Enrichment HMP 16S - Subgingival vs Supragingival - Data from Calgaro, 2020"
   ]
  },
  {
   "cell_type": "markdown",
   "id": "3629ea15-55cd-4e69-a4c8-19cdb51c2e61",
   "metadata": {},
   "source": [
    "In this notebook, the enrichment results from Calgaro, 2020 are reproduced using the NYCHANES biosis dataset (manually curated). The same procedure is done using annotations from the aerophilicity dataset from bugphyzz (result of web scraping).\n",
    "\n",
    "In Calgaro, 2020 the enrichment analysis was done with the Fisher's exact test using six contingency tables:  \n",
    "- Aerobic taxa \"Up-regulated\" in Subgingival.  \n",
    "- Aerobic taxa \"Down-regulated\" in Subgingival.  \n",
    "- Anaerobic taxa \"Up-regulated\" in Subgingival.  \n",
    "- Anaerobic taxa \"Down-regulated\" in Subgingival.  \n",
    "- Facultatively Anaerobic taxa \"Up-regulated\" in Subgingival.  \n",
    "- Facultatively Anaerobic taxa \"Down-regulated\" in Subgingival.  \n",
    "\n",
    "The same contingency tables are reproduced in this notebook with the bugphyzz annotations.\n",
    "\n",
    "Furthermore, the enrichment analyses will be done using the EnrichmentBrowser package (\"ora\").\n",
    "\n",
    "An important distinction between the approach used in Calgaro,2020 and EnrichmentBrowser is that the latter uses alll differentially abudant (DA) taxa, i.e. regardless if they're of \"up-\" or \"down-regulated\", for gene set analysis. This would be equivalent to having only three contingency tables (DA aerobic, DA anaerobic, and DA facultatively anaerobic).\n"
   ]
  },
  {
   "cell_type": "code",
   "execution_count": 1,
   "id": "aef0855a-8684-47db-b8ac-a4a4eab8a7b6",
   "metadata": {
    "tags": []
   },
   "outputs": [],
   "source": [
    "suppressMessages({\n",
    "    library(phyloseq)\n",
    "    library(DESeq2)\n",
    "    library(SummarizedExperiment)\n",
    "    library(magrittr)\n",
    "    library(dplyr)\n",
    "    library(tidyr)\n",
    "    library(ggplot2)\n",
    "})"
   ]
  },
  {
   "cell_type": "markdown",
   "id": "354eff76-f541-4243-99a8-a97c7029cc0d",
   "metadata": {},
   "source": [
    "## Functions"
   ]
  },
  {
   "cell_type": "markdown",
   "id": "66fab909-ac22-4fa0-a66b-1edd20596daf",
   "metadata": {},
   "source": [
    "A function to create a list of contingency tables from annotations in a SummarizedExperiment object:"
   ]
  },
  {
   "cell_type": "code",
   "execution_count": 2,
   "id": "8de1a663-f38a-44a5-80db-c43fc1638a3d",
   "metadata": {
    "tags": []
   },
   "outputs": [],
   "source": [
    "contingencyTable <- function(x, diffcols, sigcols) {\n",
    "        \n",
    "    row_data <- SummarizedExperiment::rowData(x) %>% \n",
    "        tibble::as_tibble(rownames = \"rowname\")\n",
    "    col_data <- SummarizedExperiment::colData(x) %>% \n",
    "        tibble::as_tibble(rownames = \"rowname\")\n",
    "    \n",
    "    for (i in seq_along(diffcols)) {\n",
    "        row_data[diffcols[i]] <- factor(row_data[[diffcols[i]]], levels = c(\"TRUE\", \"FALSE\"), labels = c(\"Diff\", \"NotDiff\"))\n",
    "    }\n",
    "    \n",
    "    for (j in seq_along(sigcols)) {\n",
    "        row_data[[sigcols[j]]] = factor(row_data[[sigcols[j]]], levels = c(\"TRUE\", \"FALSE\"), labels = c(sigcols[j], paste0(\"Not\", sigcols[j])))\n",
    "    }\n",
    "    \n",
    "    vctr_len <- length(diffcols) * length(sigcols)\n",
    "    output <- vector(\"list\", vctr_len)\n",
    "    counter <- 1\n",
    "    \n",
    "    for (i in seq_along(diffcols)) {\n",
    "        for (j in seq_along(sigcols)){\n",
    "            \n",
    "            form <- paste0(\"~ \", diffcols[i], \" + \", sigcols[j])\n",
    "            contigency_table <- stats::xtabs(form, data = row_data)\n",
    "            output[[counter]] <- contigency_table\n",
    "            names(output)[counter] <- paste0(diffcols[i], \"_\" ,sigcols[j])\n",
    "            counter <- counter + 1\n",
    "        }\n",
    "    }\n",
    "    \n",
    "    return(output)\n",
    "    \n",
    "}"
   ]
  },
  {
   "cell_type": "markdown",
   "id": "86830b5e-b2a7-441a-80df-97673826b528",
   "metadata": {},
   "source": [
    "A function to run fisher exact's test (hypergeometric) and calculate odds ratio (Haldane-Anscombe correction) from contingency tables:"
   ]
  },
  {
   "cell_type": "code",
   "execution_count": 3,
   "id": "795d6f95-2a6f-4fd1-8a04-c7f83d71d4df",
   "metadata": {
    "tags": []
   },
   "outputs": [],
   "source": [
    "enrichmentTest <- function(x) {\n",
    "    \n",
    "   output <-  lapply(x, function(y) {\n",
    "       p_value <- fisher.test(y, alternative = \"g\")$p.value\n",
    "       odds_ratio <- suppressWarnings(epitools::oddsratio.wald(y + 0.5)$measure[2,1])\n",
    "       ci_up <- exp(log(odds_ratio) + 1.96 * sqrt(sum(1 / (y + 1) )))\n",
    "       ci_lo <- exp(log(odds_ratio) - 1.96 * sqrt(sum(1 / (y + 1) )))       \n",
    "       c(p_value, odds_ratio, ci_up, ci_lo)\n",
    "    }) %>% \n",
    "       as.data.frame() %>% \n",
    "       t() %>% \n",
    "       tibble::as_tibble(rownames = \"rownames\") %>% \n",
    "       magrittr::set_colnames(c(\"con.table\",  \"p.value\", \"odds.ratio\", \"ci.up\", \"ci.lo\")) %>% \n",
    "       dplyr::arrange(p.value, odds.ratio)\n",
    "    \n",
    "    return(output)\n",
    "    \n",
    "}"
   ]
  },
  {
   "cell_type": "markdown",
   "id": "c1db1624-a117-46ef-90d8-d40c4aa6c84d",
   "metadata": {},
   "source": [
    "## Data"
   ]
  },
  {
   "cell_type": "markdown",
   "id": "c5b6fe6d-f7d0-4be8-9f0b-c0915d14ca69",
   "metadata": {},
   "source": [
    "In Calgaro, 2020, a reduced dataset was used for the enrichment analysis comparing subgingival vs supragingival plaques from HMP data (16S and WMS). This reduced dataset consisted of only 76 samples (38 subgingival and 38 supragingival). In this notebook the 16S reduced dataset will be used."
   ]
  },
  {
   "cell_type": "code",
   "execution_count": 4,
   "id": "b0022565-471d-4efc-ba5c-4dfeea795586",
   "metadata": {},
   "outputs": [
    {
     "name": "stdout",
     "output_type": "stream",
     "text": [
      "List of 3\n",
      " $ Stool_TongueDorsum       :Formal class 'phyloseq' [package \"phyloseq\"] with 5 slots\n",
      " $ Gingiva_Mucosa           :Formal class 'phyloseq' [package \"phyloseq\"] with 5 slots\n",
      " $ Subgingival_Supragingival:Formal class 'phyloseq' [package \"phyloseq\"] with 5 slots\n"
     ]
    }
   ],
   "source": [
    "# HMP16S data\n",
    "load(url(\"https://github.com/mcalgaro93/sc2meta/blob/master/data/16Sdatasets_for_replicability_filtered.RData?raw=true\"))\n",
    "str(ps_list_16S, max.level = 1)"
   ]
  },
  {
   "cell_type": "code",
   "execution_count": 5,
   "id": "928a9b23-15af-4144-93d0-0e7ed4d7f6b5",
   "metadata": {},
   "outputs": [
    {
     "name": "stderr",
     "output_type": "stream",
     "text": [
      "Warning message in class(from) <- NULL:\n",
      "“Setting class(x) to NULL;   result will no longer be an S4 object”\n"
     ]
    }
   ],
   "source": [
    "# Subgingival vs Supragingival data converted to a SummarizedExperiment\n",
    "seGingival <- SummarizedExperiment::SummarizedExperiment(\n",
    "    assays = S4Vectors::SimpleList(counts = as.matrix(as.data.frame(otu_table(ps_list_16S$Subgingival_Supragingival)))),\n",
    "    rowData = tax_table(ps_list_16S$Subgingival_Supragingival),\n",
    "    colData = S4Vectors::DataFrame(sample_data(ps_list_16S$Subgingival_Supragingival))\n",
    ")"
   ]
  },
  {
   "cell_type": "code",
   "execution_count": 6,
   "id": "35bdc7ec-03f8-462e-9a8d-4ba7256270eb",
   "metadata": {},
   "outputs": [
    {
     "data": {
      "text/plain": [
       "class: SummarizedExperiment \n",
       "dim: 892 76 \n",
       "metadata(0):\n",
       "assays(1): counts\n",
       "rownames(892): OTU_97.31247 OTU_97.44487 ... OTU_97.45365 OTU_97.45307\n",
       "rowData names(6): SUPERKINGDOM PHYLUM ... FAMILY GENUS\n",
       "colnames(76): 700023057 700023179 ... 700114009 700114338\n",
       "colData names(7): RSID VISITNO ... HMP_BODY_SUBSITE SRS_SAMPLE_ID"
      ]
     },
     "metadata": {},
     "output_type": "display_data"
    }
   ],
   "source": [
    "seGingival"
   ]
  },
  {
   "cell_type": "markdown",
   "id": "586f8a52-3231-40d5-8e34-94856bc22a6c",
   "metadata": {},
   "source": [
    "For differential abundance analysis the subgingival plaque will be used as reference. This means up- and down-regulation in the supragingival plaque."
   ]
  },
  {
   "cell_type": "code",
   "execution_count": 7,
   "id": "89ccd092-ddc2-46eb-95fe-dc9dc9915822",
   "metadata": {},
   "outputs": [],
   "source": [
    "seGingival$HMP_BODY_SUBSITE <- as.factor(seGingival$HMP_BODY_SUBSITE)"
   ]
  },
  {
   "cell_type": "code",
   "execution_count": 8,
   "id": "27f6a141-bee5-43f4-9e0f-b1aa0269590f",
   "metadata": {},
   "outputs": [
    {
     "data": {
      "text/html": [
       "<style>\n",
       ".list-inline {list-style: none; margin:0; padding: 0}\n",
       ".list-inline>li {display: inline-block}\n",
       ".list-inline>li:not(:last-child)::after {content: \"\\00b7\"; padding: 0 .5ex}\n",
       "</style>\n",
       "<ol class=list-inline><li>'Subgingival Plaque'</li><li>'Supragingival Plaque'</li></ol>\n"
      ],
      "text/latex": [
       "\\begin{enumerate*}\n",
       "\\item 'Subgingival Plaque'\n",
       "\\item 'Supragingival Plaque'\n",
       "\\end{enumerate*}\n"
      ],
      "text/markdown": [
       "1. 'Subgingival Plaque'\n",
       "2. 'Supragingival Plaque'\n",
       "\n",
       "\n"
      ],
      "text/plain": [
       "[1] \"Subgingival Plaque\"   \"Supragingival Plaque\""
      ]
     },
     "metadata": {},
     "output_type": "display_data"
    }
   ],
   "source": [
    "levels(seGingival$HMP_BODY_SUBSITE)"
   ]
  },
  {
   "cell_type": "code",
   "execution_count": 9,
   "id": "46963206-f0cd-4bdf-9aa2-8acf5161cfc7",
   "metadata": {},
   "outputs": [],
   "source": [
    "seGingival$GROUP <- as.factor(ifelse(seGingival$HMP_BODY_SUBSITE == \"Subgingival Plaque\", 0, 1)) "
   ]
  },
  {
   "cell_type": "markdown",
   "id": "7ee77630-9309-4720-986d-48b024514f12",
   "metadata": {},
   "source": [
    "## Attributes datasets"
   ]
  },
  {
   "cell_type": "code",
   "execution_count": 10,
   "id": "9275c39c-8f86-4011-a8d4-9207d43ec98d",
   "metadata": {
    "tags": []
   },
   "outputs": [
    {
     "data": {
      "text/html": [
       "<table class=\"dataframe\">\n",
       "<caption>A tibble: 6 × 2</caption>\n",
       "<thead>\n",
       "\t<tr><th scope=col>Genus</th><th scope=col>Attribute</th></tr>\n",
       "\t<tr><th scope=col>&lt;chr&gt;</th><th scope=col>&lt;chr&gt;</th></tr>\n",
       "</thead>\n",
       "<tbody>\n",
       "\t<tr><td>Acholeplasma    </td><td>F.Anaerobic</td></tr>\n",
       "\t<tr><td>Actinomycetaceae</td><td>F.Anaerobic</td></tr>\n",
       "\t<tr><td>Aeriscardovia   </td><td>Aerobic    </td></tr>\n",
       "\t<tr><td>Aerococcus      </td><td>F.Anaerobic</td></tr>\n",
       "\t<tr><td>Aggregatibacter </td><td>F.Anaerobic</td></tr>\n",
       "\t<tr><td>Alloscardovia   </td><td>Anaerobic  </td></tr>\n",
       "</tbody>\n",
       "</table>\n"
      ],
      "text/latex": [
       "A tibble: 6 × 2\n",
       "\\begin{tabular}{ll}\n",
       " Genus & Attribute\\\\\n",
       " <chr> & <chr>\\\\\n",
       "\\hline\n",
       "\t Acholeplasma     & F.Anaerobic\\\\\n",
       "\t Actinomycetaceae & F.Anaerobic\\\\\n",
       "\t Aeriscardovia    & Aerobic    \\\\\n",
       "\t Aerococcus       & F.Anaerobic\\\\\n",
       "\t Aggregatibacter  & F.Anaerobic\\\\\n",
       "\t Alloscardovia    & Anaerobic  \\\\\n",
       "\\end{tabular}\n"
      ],
      "text/markdown": [
       "\n",
       "A tibble: 6 × 2\n",
       "\n",
       "| Genus &lt;chr&gt; | Attribute &lt;chr&gt; |\n",
       "|---|---|\n",
       "| Acholeplasma     | F.Anaerobic |\n",
       "| Actinomycetaceae | F.Anaerobic |\n",
       "| Aeriscardovia    | Aerobic     |\n",
       "| Aerococcus       | F.Anaerobic |\n",
       "| Aggregatibacter  | F.Anaerobic |\n",
       "| Alloscardovia    | Anaerobic   |\n",
       "\n"
      ],
      "text/plain": [
       "  Genus            Attribute  \n",
       "1 Acholeplasma     F.Anaerobic\n",
       "2 Actinomycetaceae F.Anaerobic\n",
       "3 Aeriscardovia    Aerobic    \n",
       "4 Aerococcus       F.Anaerobic\n",
       "5 Aggregatibacter  F.Anaerobic\n",
       "6 Alloscardovia    Anaerobic  "
      ]
     },
     "metadata": {},
     "output_type": "display_data"
    }
   ],
   "source": [
    "# NYC HANES biosis data (taken from the Calgaro, 2020 repo)\n",
    "genera_metabolism <- readr::read_tsv(\"https://raw.githubusercontent.com/mcalgaro93/sc2meta/master/data/genera_methabolism.tsv\",\n",
    "                                     col_types = \"cc\") %>% \n",
    "    magrittr::set_names(c(\"Genus\", \"Attribute\")) %>% \n",
    "    dplyr::mutate(Attribute = gsub(\" \", \".\", Attribute))\n",
    "head(genera_metabolism)"
   ]
  },
  {
   "cell_type": "code",
   "execution_count": 11,
   "id": "87c82f0b-d746-43fe-9949-8b173b040cf0",
   "metadata": {},
   "outputs": [
    {
     "data": {
      "text/html": [
       "<table class=\"dataframe\">\n",
       "<caption>A data.frame: 6 × 3</caption>\n",
       "<thead>\n",
       "\t<tr><th></th><th scope=col>NCBI_ID</th><th scope=col>Taxon_name</th><th scope=col>Attribute</th></tr>\n",
       "\t<tr><th></th><th scope=col>&lt;chr&gt;</th><th scope=col>&lt;chr&gt;</th><th scope=col>&lt;chr&gt;</th></tr>\n",
       "</thead>\n",
       "<tbody>\n",
       "\t<tr><th scope=row>1</th><td>10</td><td>Cellvibrio      </td><td>aerobic</td></tr>\n",
       "\t<tr><th scope=row>2</th><td>16</td><td>Methylophilus   </td><td>aerobic</td></tr>\n",
       "\t<tr><th scope=row>3</th><td>20</td><td>Phenylobacterium</td><td>aerobic</td></tr>\n",
       "\t<tr><th scope=row>4</th><td>68</td><td>Lysobacter      </td><td>aerobic</td></tr>\n",
       "\t<tr><th scope=row>5</th><td>71</td><td>Simonsiella     </td><td>aerobic</td></tr>\n",
       "\t<tr><th scope=row>6</th><td>85</td><td>Hyphomonas      </td><td>aerobic</td></tr>\n",
       "</tbody>\n",
       "</table>\n"
      ],
      "text/latex": [
       "A data.frame: 6 × 3\n",
       "\\begin{tabular}{r|lll}\n",
       "  & NCBI\\_ID & Taxon\\_name & Attribute\\\\\n",
       "  & <chr> & <chr> & <chr>\\\\\n",
       "\\hline\n",
       "\t1 & 10 & Cellvibrio       & aerobic\\\\\n",
       "\t2 & 16 & Methylophilus    & aerobic\\\\\n",
       "\t3 & 20 & Phenylobacterium & aerobic\\\\\n",
       "\t4 & 68 & Lysobacter       & aerobic\\\\\n",
       "\t5 & 71 & Simonsiella      & aerobic\\\\\n",
       "\t6 & 85 & Hyphomonas       & aerobic\\\\\n",
       "\\end{tabular}\n"
      ],
      "text/markdown": [
       "\n",
       "A data.frame: 6 × 3\n",
       "\n",
       "| <!--/--> | NCBI_ID &lt;chr&gt; | Taxon_name &lt;chr&gt; | Attribute &lt;chr&gt; |\n",
       "|---|---|---|---|\n",
       "| 1 | 10 | Cellvibrio       | aerobic |\n",
       "| 2 | 16 | Methylophilus    | aerobic |\n",
       "| 3 | 20 | Phenylobacterium | aerobic |\n",
       "| 4 | 68 | Lysobacter       | aerobic |\n",
       "| 5 | 71 | Simonsiella      | aerobic |\n",
       "| 6 | 85 | Hyphomonas       | aerobic |\n",
       "\n"
      ],
      "text/plain": [
       "  NCBI_ID Taxon_name       Attribute\n",
       "1 10      Cellvibrio       aerobic  \n",
       "2 16      Methylophilus    aerobic  \n",
       "3 20      Phenylobacterium aerobic  \n",
       "4 68      Lysobacter       aerobic  \n",
       "5 71      Simonsiella      aerobic  \n",
       "6 85      Hyphomonas       aerobic  "
      ]
     },
     "metadata": {},
     "output_type": "display_data"
    }
   ],
   "source": [
    "# Bugphyzz aerophilicity dataset\n",
    "oxygen <- bugphyzz::physiologies(\"aerophilicity\")[[1]] %>% \n",
    "    dplyr::select(NCBI_ID, Taxon_name, Attribute) %>% \n",
    "    dplyr::filter(!is.na(NCBI_ID)) %>% \n",
    "    dplyr::mutate(NCBI_ID = as.character(NCBI_ID),\n",
    "           Attribute = gsub(\" \", \".\", Attribute)\n",
    "          )\n",
    "head(oxygen)"
   ]
  },
  {
   "cell_type": "markdown",
   "id": "5ad57bd4-d60f-4b64-82c4-c1b2677d6679",
   "metadata": {},
   "source": [
    "## Mapping of taxa to attributes"
   ]
  },
  {
   "cell_type": "markdown",
   "id": "e9f22645-0c6d-4185-b631-6cd3b0011f4e",
   "metadata": {},
   "source": [
    "Bugphyzz attributes have NCBI taxonomy IDs annotations, so NCBI taxids wil be added to the SummarizedExperiment. A datset with NCBI ids at the genus level using taxa from HMP 16S, cMD, and NYCHANES is available in the microbeScores package."
   ]
  },
  {
   "cell_type": "code",
   "execution_count": 12,
   "id": "81533d72-70d7-46d2-bdac-130988fdc1af",
   "metadata": {},
   "outputs": [
    {
     "data": {
      "text/html": [
       "<table class=\"dataframe\">\n",
       "<caption>A tibble: 6 × 2</caption>\n",
       "<thead>\n",
       "\t<tr><th scope=col>Genus</th><th scope=col>NCBI_ID</th></tr>\n",
       "\t<tr><th scope=col>&lt;chr&gt;</th><th scope=col>&lt;chr&gt;</th></tr>\n",
       "</thead>\n",
       "<tbody>\n",
       "\t<tr><td>Lactobacillus    </td><td>1578  </td></tr>\n",
       "\t<tr><td>Veillonella      </td><td>29465 </td></tr>\n",
       "\t<tr><td>Propionibacterium</td><td>1743  </td></tr>\n",
       "\t<tr><td>Corynebacterium  </td><td>1716  </td></tr>\n",
       "\t<tr><td>Bacteroides      </td><td>816   </td></tr>\n",
       "\t<tr><td>Blautia          </td><td>572511</td></tr>\n",
       "</tbody>\n",
       "</table>\n"
      ],
      "text/latex": [
       "A tibble: 6 × 2\n",
       "\\begin{tabular}{ll}\n",
       " Genus & NCBI\\_ID\\\\\n",
       " <chr> & <chr>\\\\\n",
       "\\hline\n",
       "\t Lactobacillus     & 1578  \\\\\n",
       "\t Veillonella       & 29465 \\\\\n",
       "\t Propionibacterium & 1743  \\\\\n",
       "\t Corynebacterium   & 1716  \\\\\n",
       "\t Bacteroides       & 816   \\\\\n",
       "\t Blautia           & 572511\\\\\n",
       "\\end{tabular}\n"
      ],
      "text/markdown": [
       "\n",
       "A tibble: 6 × 2\n",
       "\n",
       "| Genus &lt;chr&gt; | NCBI_ID &lt;chr&gt; |\n",
       "|---|---|\n",
       "| Lactobacillus     | 1578   |\n",
       "| Veillonella       | 29465  |\n",
       "| Propionibacterium | 1743   |\n",
       "| Corynebacterium   | 1716   |\n",
       "| Bacteroides       | 816    |\n",
       "| Blautia           | 572511 |\n",
       "\n"
      ],
      "text/plain": [
       "  Genus             NCBI_ID\n",
       "1 Lactobacillus     1578   \n",
       "2 Veillonella       29465  \n",
       "3 Propionibacterium 1743   \n",
       "4 Corynebacterium   1716   \n",
       "5 Bacteroides       816    \n",
       "6 Blautia           572511 "
      ]
     },
     "metadata": {},
     "output_type": "display_data"
    }
   ],
   "source": [
    "genera_taxids <- microbeScoresAnalyses::genus_taxids\n",
    "head(genera_taxids)"
   ]
  },
  {
   "cell_type": "code",
   "execution_count": 13,
   "id": "17d63143-8875-48e1-89b0-9afac6fe6985",
   "metadata": {},
   "outputs": [],
   "source": [
    "# Add NCBI ids\n",
    "rowData(seGingival) <- rowData(seGingival) %>% \n",
    "    as_tibble(rownames = \"rowname\") %>% \n",
    "    left_join(genera_taxids, by = c(\"GENUS\" = \"Genus\")) %>% \n",
    "    tibble::column_to_rownames() %>% \n",
    "    S4Vectors::DataFrame()"
   ]
  },
  {
   "cell_type": "code",
   "execution_count": 14,
   "id": "7221995e-8977-4f1d-a350-4751f03ef416",
   "metadata": {},
   "outputs": [],
   "source": [
    "# Map taxa to atrributes (both nychanes and bugphyzz)\n",
    "seGingival <- microbeScores::mapTaxa2Attributes(x = seGingival, db = genera_metabolism, col1 = \"GENUS\", col2 = \"Genus\", suffix = \"nychanes.\")\n",
    "seGingival <- microbeScores::mapTaxa2Attributes(x = seGingival, db = oxygen, col1 = \"NCBI_ID\", col2 = \"NCBI_ID\", suffix = \"bugphyzz.\")"
   ]
  },
  {
   "cell_type": "code",
   "execution_count": 15,
   "id": "dfd4ad19-dd62-41a1-b605-6073d5b0837e",
   "metadata": {
    "tags": []
   },
   "outputs": [
    {
     "data": {
      "text/plain": [
       "DataFrame with 892 rows and 16 columns\n",
       "             SUPERKINGDOM      PHYLUM       CLASS           ORDER\n",
       "              <character> <character> <character>     <character>\n",
       "OTU_97.31247     Bacteria  Firmicutes     Bacilli Lactobacillales\n",
       "OTU_97.44487     Bacteria  Firmicutes     Bacilli Lactobacillales\n",
       "OTU_97.34979     Bacteria  Firmicutes     Bacilli Lactobacillales\n",
       "OTU_97.34572     Bacteria  Firmicutes     Bacilli Lactobacillales\n",
       "OTU_97.42259     Bacteria  Firmicutes     Bacilli Lactobacillales\n",
       "...                   ...         ...         ...             ...\n",
       "OTU_97.44294     Bacteria  Firmicutes     Bacilli Lactobacillales\n",
       "OTU_97.45429     Bacteria  Firmicutes     Bacilli Lactobacillales\n",
       "OTU_97.44375     Bacteria  Firmicutes     Bacilli Lactobacillales\n",
       "OTU_97.45365     Bacteria  Firmicutes     Bacilli Lactobacillales\n",
       "OTU_97.45307     Bacteria  Firmicutes     Bacilli Lactobacillales\n",
       "                       FAMILY         GENUS     NCBI_ID nychanes.F.Anaerobic\n",
       "                  <character>   <character> <character>            <logical>\n",
       "OTU_97.31247 Streptococcaceae Streptococcus        1301                 TRUE\n",
       "OTU_97.44487 Streptococcaceae Streptococcus        1301                 TRUE\n",
       "OTU_97.34979 Streptococcaceae Streptococcus        1301                 TRUE\n",
       "OTU_97.34572 Streptococcaceae Streptococcus        1301                 TRUE\n",
       "OTU_97.42259 Streptococcaceae Streptococcus        1301                 TRUE\n",
       "...                       ...           ...         ...                  ...\n",
       "OTU_97.44294 Streptococcaceae Streptococcus        1301                 TRUE\n",
       "OTU_97.45429 Streptococcaceae Streptococcus        1301                 TRUE\n",
       "OTU_97.44375 Streptococcaceae Streptococcus        1301                 TRUE\n",
       "OTU_97.45365 Streptococcaceae Streptococcus        1301                 TRUE\n",
       "OTU_97.45307 Streptococcaceae Streptococcus        1301                 TRUE\n",
       "             nychanes.Aerobic nychanes.Anaerobic bugphyzz.aerobic\n",
       "                    <logical>          <logical>        <logical>\n",
       "OTU_97.31247            FALSE              FALSE            FALSE\n",
       "OTU_97.44487            FALSE              FALSE            FALSE\n",
       "OTU_97.34979            FALSE              FALSE            FALSE\n",
       "OTU_97.34572            FALSE              FALSE            FALSE\n",
       "OTU_97.42259            FALSE              FALSE            FALSE\n",
       "...                       ...                ...              ...\n",
       "OTU_97.44294            FALSE              FALSE            FALSE\n",
       "OTU_97.45429            FALSE              FALSE            FALSE\n",
       "OTU_97.44375            FALSE              FALSE            FALSE\n",
       "OTU_97.45365            FALSE              FALSE            FALSE\n",
       "OTU_97.45307            FALSE              FALSE            FALSE\n",
       "             bugphyzz.anaerobic bugphyzz.facultatively.anaerobic\n",
       "                      <logical>                        <logical>\n",
       "OTU_97.31247              FALSE                             TRUE\n",
       "OTU_97.44487              FALSE                             TRUE\n",
       "OTU_97.34979              FALSE                             TRUE\n",
       "OTU_97.34572              FALSE                             TRUE\n",
       "OTU_97.42259              FALSE                             TRUE\n",
       "...                         ...                              ...\n",
       "OTU_97.44294              FALSE                             TRUE\n",
       "OTU_97.45429              FALSE                             TRUE\n",
       "OTU_97.44375              FALSE                             TRUE\n",
       "OTU_97.45365              FALSE                             TRUE\n",
       "OTU_97.45307              FALSE                             TRUE\n",
       "             bugphyzz.microaerophilic bugphyzz.obligately.aerobic\n",
       "                            <logical>                   <logical>\n",
       "OTU_97.31247                    FALSE                       FALSE\n",
       "OTU_97.44487                    FALSE                       FALSE\n",
       "OTU_97.34979                    FALSE                       FALSE\n",
       "OTU_97.34572                    FALSE                       FALSE\n",
       "OTU_97.42259                    FALSE                       FALSE\n",
       "...                               ...                         ...\n",
       "OTU_97.44294                    FALSE                       FALSE\n",
       "OTU_97.45429                    FALSE                       FALSE\n",
       "OTU_97.44375                    FALSE                       FALSE\n",
       "OTU_97.45365                    FALSE                       FALSE\n",
       "OTU_97.45307                    FALSE                       FALSE\n",
       "             bugphyzz.obligately.anaerobic\n",
       "                                 <logical>\n",
       "OTU_97.31247                         FALSE\n",
       "OTU_97.44487                         FALSE\n",
       "OTU_97.34979                         FALSE\n",
       "OTU_97.34572                         FALSE\n",
       "OTU_97.42259                         FALSE\n",
       "...                                    ...\n",
       "OTU_97.44294                         FALSE\n",
       "OTU_97.45429                         FALSE\n",
       "OTU_97.44375                         FALSE\n",
       "OTU_97.45365                         FALSE\n",
       "OTU_97.45307                         FALSE"
      ]
     },
     "metadata": {},
     "output_type": "display_data"
    }
   ],
   "source": [
    "rowData(seGingival)"
   ]
  },
  {
   "cell_type": "markdown",
   "id": "d5a39982-30e0-4e04-a6c2-de90f6ec54f1",
   "metadata": {},
   "source": [
    "## Differential abundance analysis with DESeq2"
   ]
  },
  {
   "cell_type": "markdown",
   "id": "bbcd5a98-5d7b-49fa-88d8-32e1a386893b",
   "metadata": {},
   "source": [
    "For differential abundance analysis using Fisher's exact test (\"ora\" in EnrichmentBrowser) the \"DESeq2_poscounts\" method described in Calgaro, 2020 will be used and DA taxa wil be defined as those below an adjusted P-value of 0.1."
   ]
  },
  {
   "cell_type": "code",
   "execution_count": 16,
   "id": "5549c4ec-3346-43f8-b81d-e2a97d0ac6f5",
   "metadata": {
    "tags": []
   },
   "outputs": [],
   "source": [
    "# Convert to deseq object\n",
    "ddsGingival <- DESeqDataSet(seGingival, design = ~ HMP_BODY_SUBSITE) %>% \n",
    "    suppressMessages()"
   ]
  },
  {
   "cell_type": "code",
   "execution_count": 17,
   "id": "a2e43b63-ed4c-407e-9537-574596e5afa2",
   "metadata": {},
   "outputs": [],
   "source": [
    "# generate normFacs, etc\n",
    "ddsGingival <- DESeq(ddsGingival, sfType = \"poscounts\", test = \"LRT\", reduced = ~ 1) %>% \n",
    "    suppressMessages()"
   ]
  },
  {
   "cell_type": "code",
   "execution_count": 18,
   "id": "e7d5f6df-06f7-40b9-b793-e32032555507",
   "metadata": {},
   "outputs": [],
   "source": [
    "# DA results\n",
    "resddsGingival <- results(ddsGingival, test = \"LRT\", pAdjustMethod = \"BH\")"
   ]
  },
  {
   "cell_type": "code",
   "execution_count": 19,
   "id": "df211701-775b-4524-b19c-2ce4ef815540",
   "metadata": {
    "tags": []
   },
   "outputs": [
    {
     "data": {
      "text/plain": [
       "log2 fold change (MLE): HMP BODY SUBSITE Supragingival.Plaque vs Subgingival.Plaque \n",
       "LRT p-value: '~ HMP_BODY_SUBSITE' vs '~ 1' \n",
       "DataFrame with 892 rows and 6 columns\n",
       "              baseMean log2FoldChange     lfcSE        stat    pvalue      padj\n",
       "             <numeric>      <numeric> <numeric>   <numeric> <numeric> <numeric>\n",
       "OTU_97.31247   2.69151      -0.339135  0.715963   0.2234063  0.636457  0.803632\n",
       "OTU_97.44487   1.74948      -0.211905  0.871201   0.0590938  0.807934  0.907628\n",
       "OTU_97.34979   1.65400       0.797855  0.573992   1.9318683  0.164554  0.407423\n",
       "OTU_97.34572   2.71262       0.541483  0.578728   0.8872067  0.346235  0.600416\n",
       "OTU_97.42259  11.52889       0.338796  0.348155   0.9578903  0.327719  0.580987\n",
       "...                ...            ...       ...         ...       ...       ...\n",
       "OTU_97.44294   1.39700      1.4392218  0.602478 5.683909416 0.0171212  0.137284\n",
       "OTU_97.45429   7.13081      0.3083114  0.418116 0.548087982 0.4591000  0.687078\n",
       "OTU_97.44375   3.36431     -0.2466559  0.827358 0.089324270 0.7650380  0.886795\n",
       "OTU_97.45365  36.76483      0.0102332  0.352502 0.000855649 0.9766640  0.982283\n",
       "OTU_97.45307   1.64287      0.1455285  0.423311 0.151437596 0.6971653  0.839287"
      ]
     },
     "metadata": {},
     "output_type": "display_data"
    }
   ],
   "source": [
    "resddsGingival"
   ]
  },
  {
   "cell_type": "code",
   "execution_count": 20,
   "id": "878b0be7-9583-411b-91bf-79a76be53468",
   "metadata": {
    "tags": []
   },
   "outputs": [
    {
     "name": "stderr",
     "output_type": "stream",
     "text": [
      "Joining, by = c(\"rowname\", \"baseMean\")\n",
      "\n"
     ]
    }
   ],
   "source": [
    "# Merge taxonomy information plus attributes and results of DESEQ\n",
    " rowData(ddsGingival) <- as_tibble(rowData(ddsGingival), rownames = \"rowname\") %>% \n",
    "    left_join(as_tibble(resddsGingival, rownames = \"rowname\")) %>% \n",
    "    left_join(genera_metabolism, by = c(\"GENUS\" = \"Genus\")) %>% \n",
    "    mutate(DA = case_when(\n",
    "        .$log2FoldChange > 0 & .$padj < 0.1 ~ \"UP\", # threshold set in the article\n",
    "        .$log2FoldChange < 0 & .$padj < 0.1 ~ \"DOWN\", # threshold set in the article\n",
    "        TRUE ~ \"UNCHANGED\"),\n",
    "          DA.UP = ifelse(DA == \"UP\", TRUE, FALSE), # for contingency tables\n",
    "          DA.DOWN = ifelse(DA == \"DOWN\", TRUE, FALSE))  %>%  # for contingency tables\n",
    "    dplyr::rename(NYC.Attribute = Attribute, FC = log2FoldChange, PVAL = pvalue, ADJ.PVAL = padj) %>% \n",
    "    tibble::column_to_rownames() %>% \n",
    "    S4Vectors::DataFrame()"
   ]
  },
  {
   "cell_type": "code",
   "execution_count": 21,
   "id": "5b9bd27d-b7fc-405f-bdc0-d4d6209d93be",
   "metadata": {
    "tags": []
   },
   "outputs": [
    {
     "data": {
      "text/plain": [
       "DataFrame with 892 rows and 47 columns\n",
       "             SUPERKINGDOM      PHYLUM       CLASS           ORDER\n",
       "              <character> <character> <character>     <character>\n",
       "OTU_97.31247     Bacteria  Firmicutes     Bacilli Lactobacillales\n",
       "OTU_97.44487     Bacteria  Firmicutes     Bacilli Lactobacillales\n",
       "OTU_97.34979     Bacteria  Firmicutes     Bacilli Lactobacillales\n",
       "OTU_97.34572     Bacteria  Firmicutes     Bacilli Lactobacillales\n",
       "OTU_97.42259     Bacteria  Firmicutes     Bacilli Lactobacillales\n",
       "...                   ...         ...         ...             ...\n",
       "OTU_97.44294     Bacteria  Firmicutes     Bacilli Lactobacillales\n",
       "OTU_97.45429     Bacteria  Firmicutes     Bacilli Lactobacillales\n",
       "OTU_97.44375     Bacteria  Firmicutes     Bacilli Lactobacillales\n",
       "OTU_97.45365     Bacteria  Firmicutes     Bacilli Lactobacillales\n",
       "OTU_97.45307     Bacteria  Firmicutes     Bacilli Lactobacillales\n",
       "                       FAMILY         GENUS     NCBI_ID nychanes.F.Anaerobic\n",
       "                  <character>   <character> <character>            <logical>\n",
       "OTU_97.31247 Streptococcaceae Streptococcus        1301                 TRUE\n",
       "OTU_97.44487 Streptococcaceae Streptococcus        1301                 TRUE\n",
       "OTU_97.34979 Streptococcaceae Streptococcus        1301                 TRUE\n",
       "OTU_97.34572 Streptococcaceae Streptococcus        1301                 TRUE\n",
       "OTU_97.42259 Streptococcaceae Streptococcus        1301                 TRUE\n",
       "...                       ...           ...         ...                  ...\n",
       "OTU_97.44294 Streptococcaceae Streptococcus        1301                 TRUE\n",
       "OTU_97.45429 Streptococcaceae Streptococcus        1301                 TRUE\n",
       "OTU_97.44375 Streptococcaceae Streptococcus        1301                 TRUE\n",
       "OTU_97.45365 Streptococcaceae Streptococcus        1301                 TRUE\n",
       "OTU_97.45307 Streptococcaceae Streptococcus        1301                 TRUE\n",
       "             nychanes.Aerobic nychanes.Anaerobic bugphyzz.aerobic\n",
       "                    <logical>          <logical>        <logical>\n",
       "OTU_97.31247            FALSE              FALSE            FALSE\n",
       "OTU_97.44487            FALSE              FALSE            FALSE\n",
       "OTU_97.34979            FALSE              FALSE            FALSE\n",
       "OTU_97.34572            FALSE              FALSE            FALSE\n",
       "OTU_97.42259            FALSE              FALSE            FALSE\n",
       "...                       ...                ...              ...\n",
       "OTU_97.44294            FALSE              FALSE            FALSE\n",
       "OTU_97.45429            FALSE              FALSE            FALSE\n",
       "OTU_97.44375            FALSE              FALSE            FALSE\n",
       "OTU_97.45365            FALSE              FALSE            FALSE\n",
       "OTU_97.45307            FALSE              FALSE            FALSE\n",
       "             bugphyzz.anaerobic bugphyzz.facultatively.anaerobic\n",
       "                      <logical>                        <logical>\n",
       "OTU_97.31247              FALSE                             TRUE\n",
       "OTU_97.44487              FALSE                             TRUE\n",
       "OTU_97.34979              FALSE                             TRUE\n",
       "OTU_97.34572              FALSE                             TRUE\n",
       "OTU_97.42259              FALSE                             TRUE\n",
       "...                         ...                              ...\n",
       "OTU_97.44294              FALSE                             TRUE\n",
       "OTU_97.45429              FALSE                             TRUE\n",
       "OTU_97.44375              FALSE                             TRUE\n",
       "OTU_97.45365              FALSE                             TRUE\n",
       "OTU_97.45307              FALSE                             TRUE\n",
       "             bugphyzz.microaerophilic bugphyzz.obligately.aerobic\n",
       "                            <logical>                   <logical>\n",
       "OTU_97.31247                    FALSE                       FALSE\n",
       "OTU_97.44487                    FALSE                       FALSE\n",
       "OTU_97.34979                    FALSE                       FALSE\n",
       "OTU_97.34572                    FALSE                       FALSE\n",
       "OTU_97.42259                    FALSE                       FALSE\n",
       "...                               ...                         ...\n",
       "OTU_97.44294                    FALSE                       FALSE\n",
       "OTU_97.45429                    FALSE                       FALSE\n",
       "OTU_97.44375                    FALSE                       FALSE\n",
       "OTU_97.45365                    FALSE                       FALSE\n",
       "OTU_97.45307                    FALSE                       FALSE\n",
       "             bugphyzz.obligately.anaerobic  baseMean    baseVar   allZero\n",
       "                                 <logical> <numeric>  <numeric> <logical>\n",
       "OTU_97.31247                         FALSE   2.69151   25.19677     FALSE\n",
       "OTU_97.44487                         FALSE   1.74948   17.45396     FALSE\n",
       "OTU_97.34979                         FALSE   1.65400    9.29767     FALSE\n",
       "OTU_97.34572                         FALSE   2.71262   25.50936     FALSE\n",
       "OTU_97.42259                         FALSE  11.52889  159.78319     FALSE\n",
       "...                                    ...       ...        ...       ...\n",
       "OTU_97.44294                         FALSE   1.39700   13.03721     FALSE\n",
       "OTU_97.45429                         FALSE   7.13081  143.73147     FALSE\n",
       "OTU_97.44375                         FALSE   3.36431   61.96606     FALSE\n",
       "OTU_97.45365                         FALSE  36.76483 2759.96862     FALSE\n",
       "OTU_97.45307                         FALSE   1.64287    3.56549     FALSE\n",
       "             dispGeneEst dispGeneIter   dispFit dispersion  dispIter\n",
       "               <numeric>    <numeric> <numeric>  <numeric> <integer>\n",
       "OTU_97.31247    4.170320           11   5.86213    4.29252        11\n",
       "OTU_97.44487    6.194099            9   7.64861    6.33856         8\n",
       "OTU_97.34979    2.022482           11   7.94329    2.33695        10\n",
       "OTU_97.34572    2.511025           12   5.83630    2.66733        12\n",
       "OTU_97.42259    0.956818            8   3.31891    1.01627         9\n",
       "...                  ...          ...       ...        ...       ...\n",
       "OTU_97.44294    2.013669            9   8.93647    2.36897         9\n",
       "OTU_97.45429    1.377680           13   3.79664    1.45017         8\n",
       "OTU_97.44375    6.014938           11   5.19863    5.94211         9\n",
       "OTU_97.45365    1.066824           13   2.78724    1.10618        13\n",
       "OTU_97.45307    0.744238            8   7.97985    1.03211        11\n",
       "             dispOutlier   dispMAP Intercept\n",
       "               <logical> <numeric> <numeric>\n",
       "OTU_97.31247       FALSE   4.29252  1.584934\n",
       "OTU_97.44487       FALSE   6.33856  0.908655\n",
       "OTU_97.34979       FALSE   2.33695  0.276939\n",
       "OTU_97.34572       FALSE   2.66733  1.161405\n",
       "OTU_97.42259       FALSE   1.01627  3.359908\n",
       "...                  ...       ...       ...\n",
       "OTU_97.44294       FALSE   2.36897 -0.424902\n",
       "OTU_97.45429       FALSE   1.45017  2.680486\n",
       "OTU_97.44375       FALSE   5.94211  1.874256\n",
       "OTU_97.45365       FALSE   1.10618  5.194479\n",
       "OTU_97.45307       FALSE   1.03211  0.676185\n",
       "             HMP_BODY_SUBSITE_Supragingival.Plaque_vs_Subgingival.Plaque\n",
       "                                                               <numeric>\n",
       "OTU_97.31247                                                   -0.339135\n",
       "OTU_97.44487                                                   -0.211905\n",
       "OTU_97.34979                                                    0.797855\n",
       "OTU_97.34572                                                    0.541483\n",
       "OTU_97.42259                                                    0.338796\n",
       "...                                                                  ...\n",
       "OTU_97.44294                                                   1.4392218\n",
       "OTU_97.45429                                                   0.3083114\n",
       "OTU_97.44375                                                  -0.2466559\n",
       "OTU_97.45365                                                   0.0102332\n",
       "OTU_97.45307                                                   0.1455285\n",
       "             SE_Intercept\n",
       "                <numeric>\n",
       "OTU_97.31247     0.504653\n",
       "OTU_97.44487     0.615166\n",
       "OTU_97.34979     0.419437\n",
       "OTU_97.34572     0.415001\n",
       "OTU_97.42259     0.247739\n",
       "...                   ...\n",
       "OTU_97.44294     0.454534\n",
       "OTU_97.45429     0.297608\n",
       "OTU_97.44375     0.584378\n",
       "OTU_97.45365     0.249390\n",
       "OTU_97.45307     0.304381\n",
       "             SE_HMP_BODY_SUBSITE_Supragingival.Plaque_vs_Subgingival.Plaque\n",
       "                                                                  <numeric>\n",
       "OTU_97.31247                                                       0.715963\n",
       "OTU_97.44487                                                       0.871201\n",
       "OTU_97.34979                                                       0.573992\n",
       "OTU_97.34572                                                       0.578728\n",
       "OTU_97.42259                                                       0.348155\n",
       "...                                                                     ...\n",
       "OTU_97.44294                                                       0.602478\n",
       "OTU_97.45429                                                       0.418116\n",
       "OTU_97.44375                                                       0.827358\n",
       "OTU_97.45365                                                       0.352502\n",
       "OTU_97.45307                                                       0.423311\n",
       "             LRTStatistic LRTPvalue fullBetaConv reducedBetaConv  betaIter\n",
       "                <numeric> <numeric>    <logical>       <logical> <numeric>\n",
       "OTU_97.31247    0.2234063  0.636457         TRUE            TRUE         8\n",
       "OTU_97.44487    0.0590938  0.807934         TRUE            TRUE         6\n",
       "OTU_97.34979    1.9318683  0.164554         TRUE            TRUE         5\n",
       "OTU_97.34572    0.8872067  0.346235         TRUE            TRUE         7\n",
       "OTU_97.42259    0.9578903  0.327719         TRUE            TRUE         5\n",
       "...                   ...       ...          ...             ...       ...\n",
       "OTU_97.44294  5.683909416 0.0171212         TRUE            TRUE         6\n",
       "OTU_97.45429  0.548087982 0.4591000         TRUE            TRUE         6\n",
       "OTU_97.44375  0.089324270 0.7650380         TRUE            TRUE         9\n",
       "OTU_97.45365  0.000855649 0.9766640         TRUE            TRUE         5\n",
       "OTU_97.45307  0.151437596 0.6971653         TRUE            TRUE         5\n",
       "              deviance  maxCooks   replace         FC     lfcSE        stat\n",
       "             <numeric> <logical> <logical>  <numeric> <numeric>   <numeric>\n",
       "OTU_97.31247   290.323        NA     FALSE  -0.339135  0.715963   0.2234063\n",
       "OTU_97.44487   228.612        NA     FALSE  -0.211905  0.871201   0.0590938\n",
       "OTU_97.34979   260.154        NA     FALSE   0.797855  0.573992   1.9318683\n",
       "OTU_97.34572   312.376        NA     FALSE   0.541483  0.578728   0.8872067\n",
       "OTU_97.42259   529.982        NA     FALSE   0.338796  0.348155   0.9578903\n",
       "...                ...       ...       ...        ...       ...         ...\n",
       "OTU_97.44294   232.908        NA      TRUE  1.4392218  0.602478 5.683909416\n",
       "OTU_97.45429   458.466        NA      TRUE  0.3083114  0.418116 0.548087982\n",
       "OTU_97.44375   286.190        NA     FALSE -0.2466559  0.827358 0.089324270\n",
       "OTU_97.45365   702.043        NA      TRUE  0.0102332  0.352502 0.000855649\n",
       "OTU_97.45307   269.021        NA      TRUE  0.1455285  0.423311 0.151437596\n",
       "                  PVAL  ADJ.PVAL NYC.Attribute          DA     DA.UP   DA.DOWN\n",
       "             <numeric> <numeric>   <character> <character> <logical> <logical>\n",
       "OTU_97.31247  0.636457  0.803632   F.Anaerobic   UNCHANGED     FALSE     FALSE\n",
       "OTU_97.44487  0.807934  0.907628   F.Anaerobic   UNCHANGED     FALSE     FALSE\n",
       "OTU_97.34979  0.164554  0.407423   F.Anaerobic   UNCHANGED     FALSE     FALSE\n",
       "OTU_97.34572  0.346235  0.600416   F.Anaerobic   UNCHANGED     FALSE     FALSE\n",
       "OTU_97.42259  0.327719  0.580987   F.Anaerobic   UNCHANGED     FALSE     FALSE\n",
       "...                ...       ...           ...         ...       ...       ...\n",
       "OTU_97.44294 0.0171212  0.137284   F.Anaerobic   UNCHANGED     FALSE     FALSE\n",
       "OTU_97.45429 0.4591000  0.687078   F.Anaerobic   UNCHANGED     FALSE     FALSE\n",
       "OTU_97.44375 0.7650380  0.886795   F.Anaerobic   UNCHANGED     FALSE     FALSE\n",
       "OTU_97.45365 0.9766640  0.982283   F.Anaerobic   UNCHANGED     FALSE     FALSE\n",
       "OTU_97.45307 0.6971653  0.839287   F.Anaerobic   UNCHANGED     FALSE     FALSE"
      ]
     },
     "metadata": {},
     "output_type": "display_data"
    }
   ],
   "source": [
    "rowData(ddsGingival)"
   ]
  },
  {
   "cell_type": "code",
   "execution_count": 22,
   "id": "cee364d2-869d-425e-ab84-6230d1a87ec8",
   "metadata": {
    "tags": []
   },
   "outputs": [],
   "source": [
    "p1 <- rowData(ddsGingival) %>% \n",
    "    as_tibble() %>% \n",
    "    filter(DA != \"UNCHANGED\") %>%\n",
    "    dplyr::count(NYC.Attribute, DA) %>% \n",
    "    arrange(desc(DA)) %>% \n",
    "   # filter(!is.na(NYC.Attribute)) %>% \n",
    "    mutate(n = ifelse(DA == \"DOWN\", n * -1, n),\n",
    "          DA = factor(DA, levels = c(\"UP\", \"DOWN\"))) %>% \n",
    "    ggplot(aes(NYC.Attribute, n)) +\n",
    "    geom_col(aes(fill = DA)) +\n",
    "    geom_label(aes(label = n)) +\n",
    "#     scale_y_continuous(limits = c(-40,20), breaks = seq(-40,20,10)) +\n",
    "    labs(title = \"Supragingival - NYCHANES\", x = \"Attribute\", y = \"Number of DA taxa\") +\n",
    "    theme_bw() +\n",
    "    theme(\n",
    "        title = element_text(size = 12),\n",
    "        axis.text.y = element_text(size = 15),\n",
    "        axis.text.x = element_text(size = 15, angle = 45, hjust = 1),\n",
    "        axis.title = element_text(size = 20),\n",
    "        legend.text = element_text(size = 15),\n",
    "        legend.title = element_text(size = 20)\n",
    "    )"
   ]
  },
  {
   "cell_type": "code",
   "execution_count": 23,
   "id": "ebf3f3f8-ce35-45a6-a4a3-7bb02076029b",
   "metadata": {
    "tags": []
   },
   "outputs": [],
   "source": [
    "p2 <- rowData(ddsGingival) %>% \n",
    "    as_tibble()  %>% \n",
    "    mutate(NAS = ifelse(bugphyzz.aerobic + bugphyzz.anaerobic + bugphyzz.facultatively.anaerobic == 0, TRUE, FALSE)) %>% \n",
    "    pivot_longer(cols = c(\"bugphyzz.aerobic\", \"bugphyzz.anaerobic\", \"bugphyzz.facultatively.anaerobic\", \"NAS\"),\n",
    "                names_to = \"Attribute\", values_to = \"Attribute_values\")  %>% \n",
    "    filter(Attribute_values == TRUE, DA != \"UNCHANGED\") %>% \n",
    "    count(DA, Attribute) %>% \n",
    "    mutate(n = ifelse(DA == \"DOWN\", n * -1, n),\n",
    "          DA = factor(DA, levels = c(\"UP\", \"DOWN\"))) %>% \n",
    "    ggplot(aes(Attribute, n)) +\n",
    "    geom_col(aes(fill = DA)) +\n",
    "    geom_label(aes(label = n)) +\n",
    "#     scale_y_continuous(limits = c(-40,20), breaks = seq(-40,20,10)) +\n",
    "    labs(title = \"Supragingival - Bugphyzz\", x = \"Attribute\", y = \"Number of DA taxa\") +\n",
    "    theme_bw() +\n",
    "    theme(\n",
    "        title = element_text(size = 12),\n",
    "        axis.text.y = element_text(size = 15),\n",
    "        axis.text.x = element_text(size = 15, angle = 45, hjust = 1),\n",
    "        axis.title = element_text(size = 20),\n",
    "        legend.text = element_text(size = 15),\n",
    "        legend.title = element_text(size = 20)\n",
    "    ) "
   ]
  },
  {
   "cell_type": "markdown",
   "id": "bf4ffcab-09ad-4fcb-a477-bc14952bcdde",
   "metadata": {},
   "source": [
    "#### Plot of DA taxa"
   ]
  },
  {
   "cell_type": "code",
   "execution_count": 24,
   "id": "9af4edc9-5e3b-4691-8a18-c1f02a0dc866",
   "metadata": {
    "tags": []
   },
   "outputs": [
    {
     "data": {
      "image/png": "[encoded data removed]",
      "text/plain": [
       "plot without title"
      ]
     },
     "metadata": {
      "image/png": {
       "height": 600,
       "width": 600
      }
     },
     "output_type": "display_data"
    }
   ],
   "source": [
    "options(repr.plot.width = 10, repr.plot.height = 10)\n",
    "ggpubr::ggarrange(p1, p2, align = \"h\")"
   ]
  },
  {
   "cell_type": "markdown",
   "id": "b4ef8b1a-f39a-4d9b-ae22-53eb4c23e82b",
   "metadata": {},
   "source": [
    "## Enrichment with Fisher's exact test and odds ratio"
   ]
  },
  {
   "cell_type": "code",
   "execution_count": 25,
   "id": "ba047c58-5f47-49c8-a082-dc70d17c9ecd",
   "metadata": {},
   "outputs": [],
   "source": [
    "# Convert from deseq object to SummarizedExperiment\n",
    "seGingivalDESEQ <- SummarizedExperiment::SummarizedExperiment(\n",
    "    assays = S4Vectors::SimpleList(counts = counts(ddsGingival)),\n",
    "    rowData = rowData(ddsGingival),\n",
    "    colData = colData(ddsGingival)\n",
    ")"
   ]
  },
  {
   "cell_type": "code",
   "execution_count": 26,
   "id": "4fb9e8ef-8793-478d-9370-2b0dee71ac89",
   "metadata": {},
   "outputs": [
    {
     "data": {
      "text/plain": [
       "class: SummarizedExperiment \n",
       "dim: 892 76 \n",
       "metadata(0):\n",
       "assays(1): counts\n",
       "rownames(892): OTU_97.31247 OTU_97.44487 ... OTU_97.45365 OTU_97.45307\n",
       "rowData names(47): SUPERKINGDOM PHYLUM ... DA.UP DA.DOWN\n",
       "colnames(76): 700023057 700023179 ... 700114009 700114338\n",
       "colData names(10): RSID VISITNO ... sizeFactor replaceable"
      ]
     },
     "metadata": {},
     "output_type": "display_data"
    }
   ],
   "source": [
    "seGingivalDESEQ"
   ]
  },
  {
   "cell_type": "markdown",
   "id": "0d300350-457b-4800-ab7e-660b06b0c88b",
   "metadata": {},
   "source": [
    "### NYC HANES BIOSIS"
   ]
  },
  {
   "cell_type": "code",
   "execution_count": 27,
   "id": "a2fcc930-6229-4bdf-a46a-6c42a7758c25",
   "metadata": {
    "tags": []
   },
   "outputs": [],
   "source": [
    "nyc_hanes_attributes <- c(\"nychanes.Aerobic\", \"nychanes.Anaerobic\", \"nychanes.F.Anaerobic\")\n",
    "contingency_tbls_nychanes <- contingencyTable(seGingivalDESEQ, diffcols = c(\"DA.UP\", \"DA.DOWN\"), sigcols = nyc_hanes_attributes)"
   ]
  },
  {
   "cell_type": "code",
   "execution_count": 28,
   "id": "0d232b55-4499-4705-9053-2cc8cd542750",
   "metadata": {
    "tags": []
   },
   "outputs": [
    {
     "data": {
      "text/plain": [
       "$DA.UP_nychanes.Aerobic\n",
       "\n",
       "\n",
       "|        | nychanes.Aerobic| Notnychanes.Aerobic|\n",
       "|:-------|----------------:|-------------------:|\n",
       "|Diff    |               13|                  17|\n",
       "|NotDiff |              186|                 676|\n",
       "\n",
       "$DA.UP_nychanes.Anaerobic\n",
       "\n",
       "\n",
       "|        | nychanes.Anaerobic| Notnychanes.Anaerobic|\n",
       "|:-------|------------------:|---------------------:|\n",
       "|Diff    |                 10|                    20|\n",
       "|NotDiff |                315|                   547|\n",
       "\n",
       "$DA.UP_nychanes.F.Anaerobic\n",
       "\n",
       "\n",
       "|        | nychanes.F.Anaerobic| Notnychanes.F.Anaerobic|\n",
       "|:-------|--------------------:|-----------------------:|\n",
       "|Diff    |                    7|                      23|\n",
       "|NotDiff |                  284|                     578|\n",
       "\n",
       "$DA.DOWN_nychanes.Aerobic\n",
       "\n",
       "\n",
       "|        | nychanes.Aerobic| Notnychanes.Aerobic|\n",
       "|:-------|----------------:|-------------------:|\n",
       "|Diff    |                0|                  57|\n",
       "|NotDiff |              199|                 636|\n",
       "\n",
       "$DA.DOWN_nychanes.Anaerobic\n",
       "\n",
       "\n",
       "|        | nychanes.Anaerobic| Notnychanes.Anaerobic|\n",
       "|:-------|------------------:|---------------------:|\n",
       "|Diff    |                 38|                    19|\n",
       "|NotDiff |                287|                   548|\n",
       "\n",
       "$DA.DOWN_nychanes.F.Anaerobic\n",
       "\n",
       "\n",
       "|        | nychanes.F.Anaerobic| Notnychanes.F.Anaerobic|\n",
       "|:-------|--------------------:|-----------------------:|\n",
       "|Diff    |                    7|                      50|\n",
       "|NotDiff |                  284|                     551|\n"
      ]
     },
     "metadata": {},
     "output_type": "display_data"
    }
   ],
   "source": [
    "lapply(contingency_tbls_nychanes, function(x) knitr::kable(x))"
   ]
  },
  {
   "cell_type": "code",
   "execution_count": 29,
   "id": "559d522e-8537-4209-aeb5-3f5079e33fe2",
   "metadata": {
    "tags": []
   },
   "outputs": [],
   "source": [
    "fisher_nychanes <- enrichmentTest(contingency_tbls_nychanes) %>% \n",
    "    suppressWarnings() %>% \n",
    "    separate(col = con.table, into = c(\"Direction\", \"Attribute\"), sep = \"_\") %>% \n",
    "    mutate(Direction = sub(\"^DA\\\\.\", \"\", Direction), Attribute = sub(\"nychanes\\\\.\", \"\", Attribute))"
   ]
  },
  {
   "cell_type": "code",
   "execution_count": 30,
   "id": "ef347c59-d65c-42d8-bb3a-6cf44a3e3a2e",
   "metadata": {
    "tags": []
   },
   "outputs": [
    {
     "data": {
      "text/html": [
       "<table class=\"dataframe\">\n",
       "<caption>A tibble: 6 × 6</caption>\n",
       "<thead>\n",
       "\t<tr><th scope=col>Direction</th><th scope=col>Attribute</th><th scope=col>p.value</th><th scope=col>odds.ratio</th><th scope=col>ci.up</th><th scope=col>ci.lo</th></tr>\n",
       "\t<tr><th scope=col>&lt;chr&gt;</th><th scope=col>&lt;chr&gt;</th><th scope=col>&lt;dbl&gt;</th><th scope=col>&lt;dbl&gt;</th><th scope=col>&lt;dbl&gt;</th><th scope=col>&lt;dbl&gt;</th></tr>\n",
       "</thead>\n",
       "<tbody>\n",
       "\t<tr><td>DOWN</td><td>Anaerobic  </td><td>1.624252e-06</td><td>3.76673356</td><td>6.578516</td><td>2.156760161</td></tr>\n",
       "\t<tr><td>UP  </td><td>Aerobic    </td><td>7.315535e-03</td><td>2.79823822</td><td>5.731377</td><td>1.366187748</td></tr>\n",
       "\t<tr><td>UP  </td><td>Anaerobic  </td><td>7.051630e-01</td><td>0.88883306</td><td>1.867638</td><td>0.423007033</td></tr>\n",
       "\t<tr><td>UP  </td><td>F.Anaerobic</td><td>9.068746e-01</td><td>0.64895487</td><td>1.462644</td><td>0.287932180</td></tr>\n",
       "\t<tr><td>DOWN</td><td>F.Anaerobic</td><td>9.999337e-01</td><td>0.28789434</td><td>0.614935</td><td>0.134783595</td></tr>\n",
       "\t<tr><td>DOWN</td><td>Aerobic    </td><td>1.000000e+00</td><td>0.02774327</td><td>0.201581</td><td>0.003818263</td></tr>\n",
       "</tbody>\n",
       "</table>\n"
      ],
      "text/latex": [
       "A tibble: 6 × 6\n",
       "\\begin{tabular}{llllll}\n",
       " Direction & Attribute & p.value & odds.ratio & ci.up & ci.lo\\\\\n",
       " <chr> & <chr> & <dbl> & <dbl> & <dbl> & <dbl>\\\\\n",
       "\\hline\n",
       "\t DOWN & Anaerobic   & 1.624252e-06 & 3.76673356 & 6.578516 & 2.156760161\\\\\n",
       "\t UP   & Aerobic     & 7.315535e-03 & 2.79823822 & 5.731377 & 1.366187748\\\\\n",
       "\t UP   & Anaerobic   & 7.051630e-01 & 0.88883306 & 1.867638 & 0.423007033\\\\\n",
       "\t UP   & F.Anaerobic & 9.068746e-01 & 0.64895487 & 1.462644 & 0.287932180\\\\\n",
       "\t DOWN & F.Anaerobic & 9.999337e-01 & 0.28789434 & 0.614935 & 0.134783595\\\\\n",
       "\t DOWN & Aerobic     & 1.000000e+00 & 0.02774327 & 0.201581 & 0.003818263\\\\\n",
       "\\end{tabular}\n"
      ],
      "text/markdown": [
       "\n",
       "A tibble: 6 × 6\n",
       "\n",
       "| Direction &lt;chr&gt; | Attribute &lt;chr&gt; | p.value &lt;dbl&gt; | odds.ratio &lt;dbl&gt; | ci.up &lt;dbl&gt; | ci.lo &lt;dbl&gt; |\n",
       "|---|---|---|---|---|---|\n",
       "| DOWN | Anaerobic   | 1.624252e-06 | 3.76673356 | 6.578516 | 2.156760161 |\n",
       "| UP   | Aerobic     | 7.315535e-03 | 2.79823822 | 5.731377 | 1.366187748 |\n",
       "| UP   | Anaerobic   | 7.051630e-01 | 0.88883306 | 1.867638 | 0.423007033 |\n",
       "| UP   | F.Anaerobic | 9.068746e-01 | 0.64895487 | 1.462644 | 0.287932180 |\n",
       "| DOWN | F.Anaerobic | 9.999337e-01 | 0.28789434 | 0.614935 | 0.134783595 |\n",
       "| DOWN | Aerobic     | 1.000000e+00 | 0.02774327 | 0.201581 | 0.003818263 |\n",
       "\n"
      ],
      "text/plain": [
       "  Direction Attribute   p.value      odds.ratio ci.up    ci.lo      \n",
       "1 DOWN      Anaerobic   1.624252e-06 3.76673356 6.578516 2.156760161\n",
       "2 UP        Aerobic     7.315535e-03 2.79823822 5.731377 1.366187748\n",
       "3 UP        Anaerobic   7.051630e-01 0.88883306 1.867638 0.423007033\n",
       "4 UP        F.Anaerobic 9.068746e-01 0.64895487 1.462644 0.287932180\n",
       "5 DOWN      F.Anaerobic 9.999337e-01 0.28789434 0.614935 0.134783595\n",
       "6 DOWN      Aerobic     1.000000e+00 0.02774327 0.201581 0.003818263"
      ]
     },
     "metadata": {},
     "output_type": "display_data"
    }
   ],
   "source": [
    "fisher_nychanes"
   ]
  },
  {
   "cell_type": "markdown",
   "id": "d209041a-e9b4-4978-90e2-827abd3f75ef",
   "metadata": {},
   "source": [
    "#### Plot of Odds Ratio"
   ]
  },
  {
   "cell_type": "code",
   "execution_count": 31,
   "id": "d5a21bc1-27a9-42a6-8d82-a85e53713d9b",
   "metadata": {
    "jupyter": {
     "source_hidden": true
    },
    "tags": []
   },
   "outputs": [
    {
     "data": {
      "image/png": "[encoded data removed]",
      "text/plain": [
       "plot without title"
      ]
     },
     "metadata": {
      "image/png": {
       "height": 420,
       "width": 1200
      }
     },
     "output_type": "display_data"
    }
   ],
   "source": [
    "options(repr.plot.width = 20, repr.plot.height = 7)\n",
    "(\n",
    "p3 <- fisher_nychanes %>% \n",
    "    mutate(Direction = factor(Direction, levels = c(\"UP\", \"DOWN\")),\n",
    "          significance = ifelse(p.value <= 0.05, \"p.value <= 0.05\", \"non-significative\")) %>% \n",
    "    ggplot(aes(Attribute, odds.ratio)) +\n",
    "    geom_point(aes(color = significance), size = 4) +\n",
    "    geom_text(aes(label = sprintf(\"%0.2f\", round(p.value, digits = 2))), nudge_y = 0.15, nudge_x = -0.15, size = 5) +\n",
    "    geom_errorbar(aes(ymin = ci.lo, ymax = ci.up, color = significance), width = 0.2, size = 1) +\n",
    "    geom_hline(yintercept = 1, linetype = 2) +\n",
    "    facet_wrap(~Direction) +\n",
    "    scale_color_discrete(direction = -1) +\n",
    "    labs(title = \"Odds Ratio - NYC HANES Biosis - Subgingival vs Supragingival*\") +   \n",
    "    theme_bw() +\n",
    "    theme(title = element_text(size = 20),\n",
    "        axis.text = element_text(size = 20),\n",
    "        axis.title = element_text(size = 25),\n",
    "        legend.text = element_text(size = 15),\n",
    "        legend.title = element_text(size = 15),\n",
    "        strip.text = element_text(size = 15)\n",
    "    ) +\n",
    "    coord_flip()\n",
    ")"
   ]
  },
  {
   "cell_type": "markdown",
   "id": "cb2d0f4d-0324-4cbd-a370-47b2611532fa",
   "metadata": {},
   "source": [
    "### Bugphyzz"
   ]
  },
  {
   "cell_type": "code",
   "execution_count": 32,
   "id": "97ee587c-d92b-4407-8a4d-b85cd674befd",
   "metadata": {
    "tags": []
   },
   "outputs": [],
   "source": [
    "bugphyzz_attributes <- c(\"bugphyzz.aerobic\", \"bugphyzz.anaerobic\", \"bugphyzz.facultatively.anaerobic\")\n",
    "contingency_tbls_bugphyzz <- contingencyTable(seGingivalDESEQ, diffcols = c(\"DA.UP\", \"DA.DOWN\"), sigcols = bugphyzz_attributes)"
   ]
  },
  {
   "cell_type": "code",
   "execution_count": 33,
   "id": "4c8d8716-5c31-4c2b-b28c-3a7178a8ea79",
   "metadata": {
    "tags": []
   },
   "outputs": [
    {
     "data": {
      "text/plain": [
       "$DA.UP_bugphyzz.aerobic\n",
       "\n",
       "\n",
       "|        | bugphyzz.aerobic| Notbugphyzz.aerobic|\n",
       "|:-------|----------------:|-------------------:|\n",
       "|Diff    |                4|                  26|\n",
       "|NotDiff |              115|                 747|\n",
       "\n",
       "$DA.UP_bugphyzz.anaerobic\n",
       "\n",
       "\n",
       "|        | bugphyzz.anaerobic| Notbugphyzz.anaerobic|\n",
       "|:-------|------------------:|---------------------:|\n",
       "|Diff    |                  2|                    28|\n",
       "|NotDiff |                117|                   745|\n",
       "\n",
       "$DA.UP_bugphyzz.facultatively.anaerobic\n",
       "\n",
       "\n",
       "|        | bugphyzz.facultatively.anaerobic| Notbugphyzz.facultatively.anaerobic|\n",
       "|:-------|--------------------------------:|-----------------------------------:|\n",
       "|Diff    |                                4|                                  26|\n",
       "|NotDiff |                               72|                                 790|\n",
       "\n",
       "$DA.DOWN_bugphyzz.aerobic\n",
       "\n",
       "\n",
       "|        | bugphyzz.aerobic| Notbugphyzz.aerobic|\n",
       "|:-------|----------------:|-------------------:|\n",
       "|Diff    |                0|                  57|\n",
       "|NotDiff |              119|                 716|\n",
       "\n",
       "$DA.DOWN_bugphyzz.anaerobic\n",
       "\n",
       "\n",
       "|        | bugphyzz.anaerobic| Notbugphyzz.anaerobic|\n",
       "|:-------|------------------:|---------------------:|\n",
       "|Diff    |                 13|                    44|\n",
       "|NotDiff |                106|                   729|\n",
       "\n",
       "$DA.DOWN_bugphyzz.facultatively.anaerobic\n",
       "\n",
       "\n",
       "|        | bugphyzz.facultatively.anaerobic| Notbugphyzz.facultatively.anaerobic|\n",
       "|:-------|--------------------------------:|-----------------------------------:|\n",
       "|Diff    |                                2|                                  55|\n",
       "|NotDiff |                               74|                                 761|\n"
      ]
     },
     "metadata": {},
     "output_type": "display_data"
    }
   ],
   "source": [
    "lapply(contingency_tbls_bugphyzz, function(x) knitr::kable(x))"
   ]
  },
  {
   "cell_type": "code",
   "execution_count": 34,
   "id": "705d6c83-38f8-49ed-aa49-2551e8b69c53",
   "metadata": {
    "tags": []
   },
   "outputs": [],
   "source": [
    "fisher_bugphyzz <- enrichmentTest(contingency_tbls_bugphyzz) %>% \n",
    "    suppressWarnings() %>% \n",
    "    separate(col = con.table, into = c(\"Direction\", \"Attribute\"), sep = \"_\") %>% \n",
    "    mutate(Direction = sub(\"^DA\\\\.\", \"\", Direction), Attribute = sub(\"bugphyzz\\\\.\", \"\", Attribute))"
   ]
  },
  {
   "cell_type": "code",
   "execution_count": 35,
   "id": "c8bf9f60-2100-4679-be72-d2eef2a4dbd4",
   "metadata": {
    "tags": []
   },
   "outputs": [
    {
     "data": {
      "text/html": [
       "<table class=\"dataframe\">\n",
       "<caption>A tibble: 6 × 6</caption>\n",
       "<thead>\n",
       "\t<tr><th scope=col>Direction</th><th scope=col>Attribute</th><th scope=col>p.value</th><th scope=col>odds.ratio</th><th scope=col>ci.up</th><th scope=col>ci.lo</th></tr>\n",
       "\t<tr><th scope=col>&lt;chr&gt;</th><th scope=col>&lt;chr&gt;</th><th scope=col>&lt;dbl&gt;</th><th scope=col>&lt;dbl&gt;</th><th scope=col>&lt;dbl&gt;</th><th scope=col>&lt;dbl&gt;</th></tr>\n",
       "</thead>\n",
       "<tbody>\n",
       "\t<tr><td>DOWN</td><td>anaerobic              </td><td>0.03018077</td><td>2.07801867</td><td>3.9141903</td><td>1.103206854</td></tr>\n",
       "\t<tr><td>UP  </td><td>facultatively.anaerobic</td><td>0.24788120</td><td>1.85152895</td><td>4.9526547</td><td>0.692186246</td></tr>\n",
       "\t<tr><td>UP  </td><td>aerobic                </td><td>0.58419017</td><td>1.09899534</td><td>2.9109750</td><td>0.414909350</td></tr>\n",
       "\t<tr><td>UP  </td><td>anaerobic              </td><td>0.92682774</td><td>0.55655095</td><td>1.8560615</td><td>0.166885073</td></tr>\n",
       "\t<tr><td>DOWN</td><td>facultatively.anaerobic</td><td>0.96485385</td><td>0.46042687</td><td>1.5066563</td><td>0.140704225</td></tr>\n",
       "\t<tr><td>DOWN</td><td>aerobic                </td><td>1.00000000</td><td>0.05213753</td><td>0.3799878</td><td>0.007153708</td></tr>\n",
       "</tbody>\n",
       "</table>\n"
      ],
      "text/latex": [
       "A tibble: 6 × 6\n",
       "\\begin{tabular}{llllll}\n",
       " Direction & Attribute & p.value & odds.ratio & ci.up & ci.lo\\\\\n",
       " <chr> & <chr> & <dbl> & <dbl> & <dbl> & <dbl>\\\\\n",
       "\\hline\n",
       "\t DOWN & anaerobic               & 0.03018077 & 2.07801867 & 3.9141903 & 1.103206854\\\\\n",
       "\t UP   & facultatively.anaerobic & 0.24788120 & 1.85152895 & 4.9526547 & 0.692186246\\\\\n",
       "\t UP   & aerobic                 & 0.58419017 & 1.09899534 & 2.9109750 & 0.414909350\\\\\n",
       "\t UP   & anaerobic               & 0.92682774 & 0.55655095 & 1.8560615 & 0.166885073\\\\\n",
       "\t DOWN & facultatively.anaerobic & 0.96485385 & 0.46042687 & 1.5066563 & 0.140704225\\\\\n",
       "\t DOWN & aerobic                 & 1.00000000 & 0.05213753 & 0.3799878 & 0.007153708\\\\\n",
       "\\end{tabular}\n"
      ],
      "text/markdown": [
       "\n",
       "A tibble: 6 × 6\n",
       "\n",
       "| Direction &lt;chr&gt; | Attribute &lt;chr&gt; | p.value &lt;dbl&gt; | odds.ratio &lt;dbl&gt; | ci.up &lt;dbl&gt; | ci.lo &lt;dbl&gt; |\n",
       "|---|---|---|---|---|---|\n",
       "| DOWN | anaerobic               | 0.03018077 | 2.07801867 | 3.9141903 | 1.103206854 |\n",
       "| UP   | facultatively.anaerobic | 0.24788120 | 1.85152895 | 4.9526547 | 0.692186246 |\n",
       "| UP   | aerobic                 | 0.58419017 | 1.09899534 | 2.9109750 | 0.414909350 |\n",
       "| UP   | anaerobic               | 0.92682774 | 0.55655095 | 1.8560615 | 0.166885073 |\n",
       "| DOWN | facultatively.anaerobic | 0.96485385 | 0.46042687 | 1.5066563 | 0.140704225 |\n",
       "| DOWN | aerobic                 | 1.00000000 | 0.05213753 | 0.3799878 | 0.007153708 |\n",
       "\n"
      ],
      "text/plain": [
       "  Direction Attribute               p.value    odds.ratio ci.up     ci.lo      \n",
       "1 DOWN      anaerobic               0.03018077 2.07801867 3.9141903 1.103206854\n",
       "2 UP        facultatively.anaerobic 0.24788120 1.85152895 4.9526547 0.692186246\n",
       "3 UP        aerobic                 0.58419017 1.09899534 2.9109750 0.414909350\n",
       "4 UP        anaerobic               0.92682774 0.55655095 1.8560615 0.166885073\n",
       "5 DOWN      facultatively.anaerobic 0.96485385 0.46042687 1.5066563 0.140704225\n",
       "6 DOWN      aerobic                 1.00000000 0.05213753 0.3799878 0.007153708"
      ]
     },
     "metadata": {},
     "output_type": "display_data"
    }
   ],
   "source": [
    "fisher_bugphyzz"
   ]
  },
  {
   "cell_type": "markdown",
   "id": "8a1279a9-7164-431e-a610-58fe4faafbd3",
   "metadata": {},
   "source": [
    "#### Plot of odds ratio"
   ]
  },
  {
   "cell_type": "code",
   "execution_count": 36,
   "id": "6ead43ac-3d5e-4fc0-9549-7301f90024d5",
   "metadata": {
    "jupyter": {
     "source_hidden": true
    },
    "tags": []
   },
   "outputs": [
    {
     "data": {
      "image/png": "[encoded data removed]",
      "text/plain": [
       "plot without title"
      ]
     },
     "metadata": {
      "image/png": {
       "height": 420,
       "width": 1200
      }
     },
     "output_type": "display_data"
    }
   ],
   "source": [
    "options(repr.plot.width = 20, repr.plot.height = 7)\n",
    "(\n",
    "p4 <- fisher_bugphyzz %>% \n",
    "    mutate(Direction = factor(Direction, levels = c(\"UP\", \"DOWN\")),\n",
    "          significance = ifelse(p.value <= 0.05, \"p.value <= 0.05\", \"non-significative\"))  %>% \n",
    "    ggplot(aes(Attribute, odds.ratio)) +\n",
    "    geom_text(aes(label = sprintf(\"%0.2f\", round(p.value, digits = 2))), nudge_y = 0.15, nudge_x = -0.15, size = 5) +\n",
    "    geom_point(aes(color = significance), size = 4) +\n",
    "    geom_errorbar(aes(ymin = ci.lo, ymax = ci.up, color = significance), width = 0.2, size = 1) +\n",
    "    geom_hline(yintercept = 1, linetype = 2) +\n",
    "    facet_wrap(~Direction) +\n",
    "    scale_color_discrete(direction = -1) +\n",
    "    scale_x_discrete(labels = c(\"aerobic\", \"anaerobic\", \"fac.anaerobic\")) +\n",
    "    labs(title = \"Odds Ratio - BugPhyzz - Subgingival vs Supragingival*\") +\n",
    "    theme_bw() +\n",
    "    theme(title = element_text(size = 20),\n",
    "        axis.text = element_text(size = 20),\n",
    "        axis.title = element_text(size = 25),\n",
    "        legend.text = element_text(size = 15),\n",
    "        legend.title = element_text(size = 15),\n",
    "        strip.text = element_text(size = 15)\n",
    "    ) +\n",
    "    coord_flip()\n",
    ")"
   ]
  },
  {
   "cell_type": "markdown",
   "id": "c2190d46-3ce6-4931-a905-4504fec4f0a7",
   "metadata": {},
   "source": [
    "### Comparison with EnrichmentBrowser"
   ]
  },
  {
   "cell_type": "markdown",
   "id": "c0601986-cdf1-4d51-aaf8-ec1f786b7d37",
   "metadata": {},
   "source": [
    "#### NYCHANES"
   ]
  },
  {
   "cell_type": "markdown",
   "id": "22b37c74-137e-4bb7-b66a-b6d9d2469371",
   "metadata": {},
   "source": [
    "A custom set of microbes with NYC HANES Biosis signatures:"
   ]
  },
  {
   "cell_type": "code",
   "execution_count": 37,
   "id": "9ed53b09-337f-4a80-a766-daabf0b41b1b",
   "metadata": {},
   "outputs": [],
   "source": [
    "nychanes_sets = microbeScores::makeMicrobeSets(x = seGingivalDESEQ, cols = c(\"nychanes.Aerobic\", \"nychanes.Anaerobic\", \"nychanes.F.Anaerobic\"))"
   ]
  },
  {
   "cell_type": "code",
   "execution_count": 38,
   "id": "1b4f2d63-aa4d-415d-96d9-a0165b982b9e",
   "metadata": {},
   "outputs": [],
   "source": [
    "seGingivalDESEQ_ora_nychanes_default <- EnrichmentBrowser::sbea(method = \"ora\", se = seGingivalDESEQ,  gs = nychanes_sets, alpha = 0.1, perm=0)"
   ]
  },
  {
   "cell_type": "code",
   "execution_count": 49,
   "id": "25e32ce9-bdb8-48aa-bc96-535a8d60e10c",
   "metadata": {},
   "outputs": [
    {
     "data": {
      "text/plain": [
       "DataFrame with 1 row and 4 columns\n",
       "            GENE.SET  NR.GENES NR.SIG.GENES      PVAL\n",
       "         <character> <numeric>    <numeric> <numeric>\n",
       "1 nychanes.Anaerobic       320           48  9.12e-06"
      ]
     },
     "metadata": {},
     "output_type": "display_data"
    }
   ],
   "source": [
    "EnrichmentBrowser::gsRanking(seGingivalDESEQ_ora_nychanes_default, signif.only = TRUE)"
   ]
  },
  {
   "cell_type": "markdown",
   "id": "fa734b2c-78bd-4bf6-ac8e-8928e1720d1c",
   "metadata": {},
   "source": [
    "Above, only one \"term\" was enriched: anaerobic. Because of the design passed to EnrichmentBrowser, this means that the anaerobic microbes are enriched in the set of differentially abundant taxa, i.e. they can be either \"UP\" or \"DOWN\"."
   ]
  },
  {
   "cell_type": "markdown",
   "id": "b56819a6-7f75-449c-b7c0-91969d226af8",
   "metadata": {},
   "source": [
    "Let's try to repruduce the results above using contigency tables and Fisher's exact test."
   ]
  },
  {
   "cell_type": "code",
   "execution_count": 40,
   "id": "a7968ea7-431e-43a3-b2c7-4b6a91adfd1d",
   "metadata": {},
   "outputs": [
    {
     "data": {
      "text/html": [
       "800"
      ],
      "text/latex": [
       "800"
      ],
      "text/markdown": [
       "800"
      ],
      "text/plain": [
       "[1] 800"
      ]
     },
     "metadata": {},
     "output_type": "display_data"
    }
   ],
   "source": [
    "# EnrichmentBrowser filters lowly \"expressed\" features\n",
    "filtered_otus <- rownames(seGingivalDESEQ_ora_nychanes_default$se)\n",
    "length(filtered_otus) # There were 892 in the original dataset"
   ]
  },
  {
   "cell_type": "markdown",
   "id": "3e5f332d-3b1a-4250-815b-58fdf6231199",
   "metadata": {},
   "source": [
    "Since the OTUs were filtered, it's necessary to re-count DA taxa and non-DA taxa to create a contingency matrix."
   ]
  },
  {
   "cell_type": "code",
   "execution_count": 41,
   "id": "a6fb3b52-c8ae-43e7-8d25-2a09469e8ed9",
   "metadata": {},
   "outputs": [
    {
     "data": {
      "text/html": [
       "75"
      ],
      "text/latex": [
       "75"
      ],
      "text/markdown": [
       "75"
      ],
      "text/plain": [
       "[1] 75"
      ]
     },
     "metadata": {},
     "output_type": "display_data"
    }
   ],
   "source": [
    "diff_otus <- filtered_otus[rowData(seGingivalDESEQ_ora_nychanes_default$se)$ADJ.PVAL < 0.1]\n",
    "length(diff_otus) # There were 87 in the original dataset"
   ]
  },
  {
   "cell_type": "code",
   "execution_count": 42,
   "id": "26a53800-375a-493e-9486-babfc5125b9e",
   "metadata": {},
   "outputs": [
    {
     "data": {
      "text/html": [
       "48"
      ],
      "text/latex": [
       "48"
      ],
      "text/markdown": [
       "48"
      ],
      "text/plain": [
       "[1] 48"
      ]
     },
     "metadata": {},
     "output_type": "display_data"
    }
   ],
   "source": [
    "sum(diff_otus %in% nychanes_sets$nychanes.Anaerobic) # The same number of taxa as before filtering"
   ]
  },
  {
   "cell_type": "code",
   "execution_count": 43,
   "id": "70645a1d-d9fd-4b52-80f4-107b1d130063",
   "metadata": {},
   "outputs": [
    {
     "data": {
      "text/html": [
       "320"
      ],
      "text/latex": [
       "320"
      ],
      "text/markdown": [
       "320"
      ],
      "text/plain": [
       "[1] 320"
      ]
     },
     "metadata": {},
     "output_type": "display_data"
    }
   ],
   "source": [
    "sum(filtered_otus %in% nychanes_sets$nychanes.Anaerobic) # There were 325 before filtering"
   ]
  },
  {
   "cell_type": "code",
   "execution_count": 44,
   "id": "d6eef219-2bf4-4dd1-9eb6-9afdb29bc5e6",
   "metadata": {},
   "outputs": [
    {
     "data": {
      "text/html": [
       "<table class=\"dataframe\">\n",
       "<caption>A matrix: 3 × 3 of type dbl</caption>\n",
       "<thead>\n",
       "\t<tr><th></th><th scope=col>Anaerobic</th><th scope=col>Not Anaerobic</th><th scope=col>Sum</th></tr>\n",
       "</thead>\n",
       "<tbody>\n",
       "\t<tr><th scope=row>DA</th><td> 48</td><td> 27</td><td> 75</td></tr>\n",
       "\t<tr><th scope=row>Not DA</th><td>272</td><td>453</td><td>725</td></tr>\n",
       "\t<tr><th scope=row>Sum</th><td>320</td><td>480</td><td>800</td></tr>\n",
       "</tbody>\n",
       "</table>\n"
      ],
      "text/latex": [
       "A matrix: 3 × 3 of type dbl\n",
       "\\begin{tabular}{r|lll}\n",
       "  & Anaerobic & Not Anaerobic & Sum\\\\\n",
       "\\hline\n",
       "\tDA &  48 &  27 &  75\\\\\n",
       "\tNot DA & 272 & 453 & 725\\\\\n",
       "\tSum & 320 & 480 & 800\\\\\n",
       "\\end{tabular}\n"
      ],
      "text/markdown": [
       "\n",
       "A matrix: 3 × 3 of type dbl\n",
       "\n",
       "| <!--/--> | Anaerobic | Not Anaerobic | Sum |\n",
       "|---|---|---|---|\n",
       "| DA |  48 |  27 |  75 |\n",
       "| Not DA | 272 | 453 | 725 |\n",
       "| Sum | 320 | 480 | 800 |\n",
       "\n"
      ],
      "text/plain": [
       "       Anaerobic Not Anaerobic Sum\n",
       "DA      48        27            75\n",
       "Not DA 272       453           725\n",
       "Sum    320       480           800"
      ]
     },
     "metadata": {},
     "output_type": "display_data"
    }
   ],
   "source": [
    "a = sum(diff_otus %in% nychanes_sets$nychanes.Anaerobic) # DA, anaerobic\n",
    "b = sum(diff_otus %in% nychanes_sets$nychanes.Anaerobic == FALSE) # DA, not aerobic\n",
    "c = sum(filtered_otus %in% nychanes_sets$nychanes.Anaerobic) - a # Not DA, aerobic\n",
    "d = length(filtered_otus) - a - b -c # Not DA, Not aerobic\n",
    "m = matrix(c(a, b, c, d), ncol = 2, byrow = TRUE)\n",
    "dimnames(m) = list(c(\"DA\", \"Not DA\"), c(\"Anaerobic\", \"Not Anaerobic\"))\n",
    "addmargins(m)\n"
   ]
  },
  {
   "cell_type": "code",
   "execution_count": 45,
   "id": "2f2b4059-a21e-4fb2-a998-c1d33adca36c",
   "metadata": {},
   "outputs": [
    {
     "data": {
      "text/plain": [
       "\n",
       "\tFisher's Exact Test for Count Data\n",
       "\n",
       "data:  m\n",
       "p-value = 9.119e-06\n",
       "alternative hypothesis: true odds ratio is greater than 1\n",
       "95 percent confidence interval:\n",
       " 1.902331      Inf\n",
       "sample estimates:\n",
       "odds ratio \n",
       "  2.956602 \n"
      ]
     },
     "metadata": {},
     "output_type": "display_data"
    }
   ],
   "source": [
    "fisher.test(m, alternative = \"g\") # The output is the same as the output from EnrichmentBrowser"
   ]
  },
  {
   "cell_type": "code",
   "execution_count": 46,
   "id": "366f2b87-9a34-4581-8a36-9b4cadc9992b",
   "metadata": {},
   "outputs": [],
   "source": [
    "bugphyzz_sets <- microbeScores::makeMicrobeSets(x = seGingivalDESEQ, cols = c(\"bugphyzz.aerobic\", \"bugphyzz.anaerobic\", \"bugphyzz.facultatively.anaerobic\"))"
   ]
  },
  {
   "cell_type": "code",
   "execution_count": 48,
   "id": "225db30f-5c06-40a7-85d8-f13963b29c9b",
   "metadata": {},
   "outputs": [
    {
     "data": {
      "text/plain": [
       "DataFrame with 1 row and 4 columns\n",
       "            GENE.SET  NR.GENES NR.SIG.GENES      PVAL\n",
       "         <character> <numeric>    <numeric> <numeric>\n",
       "1 bugphyzz.anaerobic       116           15     0.016"
      ]
     },
     "metadata": {},
     "output_type": "display_data"
    }
   ],
   "source": [
    "EnrichmentBrowser::sbea(method = \"ora\", se = seGingivalDESEQ, gs = bugphyzz_sets, alpha = 0.1, perm = 0) %>% \n",
    "    EnrichmentBrowser::gsRanking(signif.only = TRUE) # None was found significative"
   ]
  },
  {
   "cell_type": "code",
   "execution_count": null,
   "id": "6e1461fd-bb04-4238-bbbe-4c7129fefeca",
   "metadata": {},
   "outputs": [],
   "source": []
  }
 ],
 "metadata": {
  "kernelspec": {
   "display_name": "R",
   "language": "R",
   "name": "ir"
  },
  "language_info": {
   "codemirror_mode": "r",
   "file_extension": ".r",
   "mimetype": "text/x-r-source",
   "name": "R",
   "pygments_lexer": "r",
   "version": "4.1.0"
  }
 },
 "nbformat": 4,
 "nbformat_minor": 5
}
