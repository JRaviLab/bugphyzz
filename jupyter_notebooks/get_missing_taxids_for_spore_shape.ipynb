{
 "cells": [
  {
   "cell_type": "markdown",
   "id": "818b8aae-6ea1-4b00-bf83-05ff6052b7b7",
   "metadata": {},
   "source": [
    "# Get missing taxids for spore shape"
   ]
  },
  {
   "cell_type": "markdown",
   "id": "9c542d28-7cdc-41cc-a278-63b660db7e9f",
   "metadata": {},
   "source": [
    "Code for obtaining missing taxids (NCBI IDs) for values in the Genome_ID and Accession_ID columns of the \"spore shape\" dataset of bugphyzz."
   ]
  },
  {
   "cell_type": "code",
   "execution_count": 284,
   "id": "a5d9fe37-0bb9-4a28-8597-25af9608fe6e",
   "metadata": {},
   "outputs": [],
   "source": [
    "suppressMessages({\n",
    "    library(dplyr)\n",
    "    library(data.table)\n",
    "})"
   ]
  },
  {
   "cell_type": "code",
   "execution_count": 90,
   "id": "5bd0c88f-8885-4dc4-8eae-f32fdcac4db0",
   "metadata": {},
   "outputs": [],
   "source": [
    "## This is the updated file created by Jennifer Wokaty\n",
    "spore_shape_url <- \"https://docs.google.com/spreadsheets/d/1tZnjvgRrv5ww88TVgjzZvcoR3SvLu9gi/export?format=xlsx\"\n",
    "spore_shape_file <- tempfile()\n",
    "download.file(spore_shape_url, spore_shape_file)\n",
    "spore_shape <- readxl::read_xlsx(spore_shape_file, na = \"NA\")"
   ]
  },
  {
   "cell_type": "markdown",
   "id": "f6740b5e-2c39-4bf3-80c9-c6d181fd402b",
   "metadata": {},
   "source": [
    "Get the Genome and Accession IDs with missing taxids:"
   ]
  },
  {
   "cell_type": "code",
   "execution_count": 152,
   "id": "6920a3e7-1179-4919-b793-bc2163f47a5b",
   "metadata": {},
   "outputs": [],
   "source": [
    "## Genome IDs (start with GCF; they're from the assembly database)\n",
    "assembly_ids_1 <- spore_shape %>% \n",
    "    filter(is.na(NCBI_ID), !is.na(Genome_ID)) %>% \n",
    "    pull(Genome_ID) %>% \n",
    "    unique()\n",
    "\n",
    "## Accession IDs (they're from the SRA database)\n",
    "sra_ids <- spore_shape %>% \n",
    "    filter(is.na(NCBI_ID), grepl(\"^ERS\", Accession_ID)) %>% \n",
    "    pull(Accession_ID) %>% \n",
    "    unique()\n",
    "\n",
    "## Some genome ids start with GCA insteead of GCF\n",
    "assembly_ids_2 <- spore_shape %>% \n",
    "    filter(is.na(NCBI_ID), grepl(\"^GCA\", Accession_ID))  %>% \n",
    "    pull(Accession_ID) %>% \n",
    "    unique()"
   ]
  },
  {
   "cell_type": "code",
   "execution_count": 85,
   "id": "19e4c338-87c3-4c66-800d-087c04936dce",
   "metadata": {},
   "outputs": [
    {
     "data": {
      "text/html": [
       "131"
      ],
      "text/latex": [
       "131"
      ],
      "text/markdown": [
       "131"
      ],
      "text/plain": [
       "[1] 131"
      ]
     },
     "metadata": {},
     "output_type": "display_data"
    }
   ],
   "source": [
    "length(assembly_ids_1)"
   ]
  },
  {
   "cell_type": "code",
   "execution_count": 87,
   "id": "701eb6d0-8770-4864-8889-cf906f35a9b9",
   "metadata": {},
   "outputs": [
    {
     "data": {
      "text/html": [
       "12"
      ],
      "text/latex": [
       "12"
      ],
      "text/markdown": [
       "12"
      ],
      "text/plain": [
       "[1] 12"
      ]
     },
     "metadata": {},
     "output_type": "display_data"
    }
   ],
   "source": [
    "length(sra_ids)"
   ]
  },
  {
   "cell_type": "code",
   "execution_count": 88,
   "id": "7dd64c37-30cc-44db-8c5e-c7c2ab7ad726",
   "metadata": {},
   "outputs": [
    {
     "data": {
      "text/html": [
       "4"
      ],
      "text/latex": [
       "4"
      ],
      "text/markdown": [
       "4"
      ],
      "text/plain": [
       "[1] 4"
      ]
     },
     "metadata": {},
     "output_type": "display_data"
    }
   ],
   "source": [
    "length(assembly_ids_2)"
   ]
  },
  {
   "cell_type": "markdown",
   "id": "94f3ad03-e8d9-48e5-a26b-dce444b62693",
   "metadata": {},
   "source": [
    "## Get taxids and taxa names"
   ]
  },
  {
   "cell_type": "markdown",
   "id": "33e5919b-664f-4c6f-a482-1265068b4548",
   "metadata": {},
   "source": [
    "Let's define a function to help retrieving the taxids using the \"efetch\" command from the NCBI e-utilities. More\n",
    "information at this site:https://www.ncbi.nlm.nih.gov/books/NBK179288/. This post in biostars could be useful\n",
    "as well: https://www.biostars.org/p/353500/"
   ]
  },
  {
   "cell_type": "code",
   "execution_count": 219,
   "id": "f163d871-9f0b-4978-a27e-eb3f9dff4eb7",
   "metadata": {},
   "outputs": [],
   "source": [
    "get_taxids_from_assembly_or_accession <- function(x, db) {\n",
    "    \n",
    "    ## this function requires efetch installed in a linux system\n",
    "    \n",
    "    if (db == \"assembly\") {\n",
    "        fields <- \"AssemblyAccession,Taxid,Organism\"\n",
    "    }\n",
    "    \n",
    "    if (db == \"sra\") {\n",
    "        fields <- \"Sample@acc,Organism@taxid,Organism@ScientificName\"\n",
    "    }\n",
    "    \n",
    "    output <- vector(\"list\", length(x))\n",
    "    names(output) <- x\n",
    "    for (i in seq_along(output)) {\n",
    "        arg_string <- paste0(\n",
    "            \"-db \", db, \" -id \", x[i], \" -format docsum \",\n",
    "            \"| xtract -pattern DocumentSummarySet\",\n",
    "            \" -element \", fields\n",
    "        )\n",
    "    \n",
    "        tryCatch(\n",
    "            error = function(e) NULL, {\n",
    "                output[[i]] <- system2(\n",
    "                    \"efetch\", arg_string, stdout = TRUE\n",
    "                    ) |>\n",
    "                {\\(y) sub(\"\\\\(.+$\", \"\", y)}()\n",
    "                }\n",
    "        )\n",
    "    }\n",
    "    purrr::discard(output, ~!length(.x)) |>\n",
    "        toTable(db = db)\n",
    "    \n",
    "        \n",
    "}\n",
    "\n",
    "toTable <- function(x, db = \"id\") {\n",
    "    \n",
    "    if (db == \"assembly\") {\n",
    "        id_col <- \"Genome_ID\"\n",
    "    }\n",
    "    \n",
    "    if (db == \"sra\") {\n",
    "        id_col <- \"Accession_ID\"\n",
    "    }\n",
    "    \n",
    "    col_names <- c(id_col, \"NCBI_ID\", \"Taxon_name\")\n",
    "    \n",
    "    output <- vector(\"list\", length(x))\n",
    "    for (i in seq_along(output)) {\n",
    "        output[[i]] <- x[[i]] |>\n",
    "            strsplit(split = \"\\t\") |>\n",
    "            unlist() |>\n",
    "            matrix(nrow = 1) |>\n",
    "            dplyr::as_tibble()\n",
    "    }\n",
    "    dplyr::bind_rows(output) |>\n",
    "        magrittr::set_colnames(col_names)\n",
    "}"
   ]
  },
  {
   "cell_type": "code",
   "execution_count": 222,
   "id": "a5ec5494-f76a-499b-957e-e769f8ba299c",
   "metadata": {},
   "outputs": [
    {
     "data": {
      "text/html": [
       "<table class=\"dataframe\">\n",
       "<caption>A tibble: 6 × 3</caption>\n",
       "<thead>\n",
       "\t<tr><th scope=col>Genome_ID</th><th scope=col>NCBI_ID</th><th scope=col>Taxon_name</th></tr>\n",
       "\t<tr><th scope=col>&lt;chr&gt;</th><th scope=col>&lt;chr&gt;</th><th scope=col>&lt;chr&gt;</th></tr>\n",
       "</thead>\n",
       "<tbody>\n",
       "\t<tr><td>GCF_000332735.1</td><td>1194526</td><td>Staphylococcus warneri SG1          </td></tr>\n",
       "\t<tr><td>GCF_000798825.1</td><td>1339243</td><td>Carnobacterium sp. ZWU0011          </td></tr>\n",
       "\t<tr><td>GCF_000271405.2</td><td>768486 </td><td>Enterococcus hirae ATCC 9790        </td></tr>\n",
       "\t<tr><td>GCF_000205205.1</td><td>749517 </td><td>Enterococcus faecalis TX1467        </td></tr>\n",
       "\t<tr><td>GCF_000014365.1</td><td>373153 </td><td>Streptococcus pneumoniae D39        </td></tr>\n",
       "\t<tr><td>GCF_000213825.1</td><td>936154 </td><td>Streptococcus parauberis KCTC 11537 </td></tr>\n",
       "</tbody>\n",
       "</table>\n"
      ],
      "text/latex": [
       "A tibble: 6 × 3\n",
       "\\begin{tabular}{lll}\n",
       " Genome\\_ID & NCBI\\_ID & Taxon\\_name\\\\\n",
       " <chr> & <chr> & <chr>\\\\\n",
       "\\hline\n",
       "\t GCF\\_000332735.1 & 1194526 & Staphylococcus warneri SG1          \\\\\n",
       "\t GCF\\_000798825.1 & 1339243 & Carnobacterium sp. ZWU0011          \\\\\n",
       "\t GCF\\_000271405.2 & 768486  & Enterococcus hirae ATCC 9790        \\\\\n",
       "\t GCF\\_000205205.1 & 749517  & Enterococcus faecalis TX1467        \\\\\n",
       "\t GCF\\_000014365.1 & 373153  & Streptococcus pneumoniae D39        \\\\\n",
       "\t GCF\\_000213825.1 & 936154  & Streptococcus parauberis KCTC 11537 \\\\\n",
       "\\end{tabular}\n"
      ],
      "text/markdown": [
       "\n",
       "A tibble: 6 × 3\n",
       "\n",
       "| Genome_ID &lt;chr&gt; | NCBI_ID &lt;chr&gt; | Taxon_name &lt;chr&gt; |\n",
       "|---|---|---|\n",
       "| GCF_000332735.1 | 1194526 | Staphylococcus warneri SG1           |\n",
       "| GCF_000798825.1 | 1339243 | Carnobacterium sp. ZWU0011           |\n",
       "| GCF_000271405.2 | 768486  | Enterococcus hirae ATCC 9790         |\n",
       "| GCF_000205205.1 | 749517  | Enterococcus faecalis TX1467         |\n",
       "| GCF_000014365.1 | 373153  | Streptococcus pneumoniae D39         |\n",
       "| GCF_000213825.1 | 936154  | Streptococcus parauberis KCTC 11537  |\n",
       "\n"
      ],
      "text/plain": [
       "  Genome_ID       NCBI_ID Taxon_name                          \n",
       "1 GCF_000332735.1 1194526 Staphylococcus warneri SG1          \n",
       "2 GCF_000798825.1 1339243 Carnobacterium sp. ZWU0011          \n",
       "3 GCF_000271405.2 768486  Enterococcus hirae ATCC 9790        \n",
       "4 GCF_000205205.1 749517  Enterococcus faecalis TX1467        \n",
       "5 GCF_000014365.1 373153  Streptococcus pneumoniae D39        \n",
       "6 GCF_000213825.1 936154  Streptococcus parauberis KCTC 11537 "
      ]
     },
     "metadata": {},
     "output_type": "display_data"
    }
   ],
   "source": [
    "##  This can take a while because the information is fetched one by one\n",
    "assembly_ids_1_taxids <- \n",
    "    get_taxids_from_assembly_or_accession(assembly_ids_1, db = \"assembly\")\n",
    "head(assembly_ids_1_taxids)"
   ]
  },
  {
   "cell_type": "code",
   "execution_count": 220,
   "id": "370de24f-59cb-42c5-8f3f-40bf55d9b190",
   "metadata": {},
   "outputs": [
    {
     "data": {
      "text/html": [
       "<table class=\"dataframe\">\n",
       "<caption>A tibble: 4 × 3</caption>\n",
       "<thead>\n",
       "\t<tr><th scope=col>Genome_ID</th><th scope=col>NCBI_ID</th><th scope=col>Taxon_name</th></tr>\n",
       "\t<tr><th scope=col>&lt;chr&gt;</th><th scope=col>&lt;chr&gt;</th><th scope=col>&lt;chr&gt;</th></tr>\n",
       "</thead>\n",
       "<tbody>\n",
       "\t<tr><td>GCA_001311805.1</td><td>1293599</td><td>Lentibacillus juripiscarius JCM 12147 </td></tr>\n",
       "\t<tr><td>GCA_001310515.1</td><td>1460650</td><td>Bacillus sp. JCM 19056                </td></tr>\n",
       "\t<tr><td>GCA_001310675.1</td><td>1481930</td><td>Oceanobacillus sp. JCM 19060          </td></tr>\n",
       "\t<tr><td>GCA_001310555.1</td><td>1460652</td><td>Bacillus sp. JCM 19058                </td></tr>\n",
       "</tbody>\n",
       "</table>\n"
      ],
      "text/latex": [
       "A tibble: 4 × 3\n",
       "\\begin{tabular}{lll}\n",
       " Genome\\_ID & NCBI\\_ID & Taxon\\_name\\\\\n",
       " <chr> & <chr> & <chr>\\\\\n",
       "\\hline\n",
       "\t GCA\\_001311805.1 & 1293599 & Lentibacillus juripiscarius JCM 12147 \\\\\n",
       "\t GCA\\_001310515.1 & 1460650 & Bacillus sp. JCM 19056                \\\\\n",
       "\t GCA\\_001310675.1 & 1481930 & Oceanobacillus sp. JCM 19060          \\\\\n",
       "\t GCA\\_001310555.1 & 1460652 & Bacillus sp. JCM 19058                \\\\\n",
       "\\end{tabular}\n"
      ],
      "text/markdown": [
       "\n",
       "A tibble: 4 × 3\n",
       "\n",
       "| Genome_ID &lt;chr&gt; | NCBI_ID &lt;chr&gt; | Taxon_name &lt;chr&gt; |\n",
       "|---|---|---|\n",
       "| GCA_001311805.1 | 1293599 | Lentibacillus juripiscarius JCM 12147  |\n",
       "| GCA_001310515.1 | 1460650 | Bacillus sp. JCM 19056                 |\n",
       "| GCA_001310675.1 | 1481930 | Oceanobacillus sp. JCM 19060           |\n",
       "| GCA_001310555.1 | 1460652 | Bacillus sp. JCM 19058                 |\n",
       "\n"
      ],
      "text/plain": [
       "  Genome_ID       NCBI_ID Taxon_name                            \n",
       "1 GCA_001311805.1 1293599 Lentibacillus juripiscarius JCM 12147 \n",
       "2 GCA_001310515.1 1460650 Bacillus sp. JCM 19056                \n",
       "3 GCA_001310675.1 1481930 Oceanobacillus sp. JCM 19060          \n",
       "4 GCA_001310555.1 1460652 Bacillus sp. JCM 19058                "
      ]
     },
     "metadata": {},
     "output_type": "display_data"
    }
   ],
   "source": [
    "assembly_ids_2_taxids \n",
    "    <- get_taxids_from_assembly_or_accession(assembly_ids_2, db = \"assembly\")\n",
    "assembly_ids_2_taxids"
   ]
  },
  {
   "cell_type": "code",
   "execution_count": 221,
   "id": "a9d18847-83cd-4113-8388-cb71bdd70f63",
   "metadata": {},
   "outputs": [
    {
     "data": {
      "text/html": [
       "<table class=\"dataframe\">\n",
       "<caption>A tibble: 6 × 3</caption>\n",
       "<thead>\n",
       "\t<tr><th scope=col>Accession_ID</th><th scope=col>NCBI_ID</th><th scope=col>Taxon_name</th></tr>\n",
       "\t<tr><th scope=col>&lt;chr&gt;</th><th scope=col>&lt;chr&gt;</th><th scope=col>&lt;chr&gt;</th></tr>\n",
       "</thead>\n",
       "<tbody>\n",
       "\t<tr><td>ERS852512</td><td>162156</td><td>uncultured Bacteroides sp.</td></tr>\n",
       "\t<tr><td>ERS852513</td><td>823   </td><td>Parabacteroides distasonis</td></tr>\n",
       "\t<tr><td>ERS852418</td><td>162156</td><td>uncultured Bacteroides sp.</td></tr>\n",
       "\t<tr><td>ERS852560</td><td>823   </td><td>Parabacteroides distasonis</td></tr>\n",
       "\t<tr><td>ERS852380</td><td>823   </td><td>Parabacteroides distasonis</td></tr>\n",
       "\t<tr><td>ERS852397</td><td>338188</td><td>Bacteroides finegoldii    </td></tr>\n",
       "</tbody>\n",
       "</table>\n"
      ],
      "text/latex": [
       "A tibble: 6 × 3\n",
       "\\begin{tabular}{lll}\n",
       " Accession\\_ID & NCBI\\_ID & Taxon\\_name\\\\\n",
       " <chr> & <chr> & <chr>\\\\\n",
       "\\hline\n",
       "\t ERS852512 & 162156 & uncultured Bacteroides sp.\\\\\n",
       "\t ERS852513 & 823    & Parabacteroides distasonis\\\\\n",
       "\t ERS852418 & 162156 & uncultured Bacteroides sp.\\\\\n",
       "\t ERS852560 & 823    & Parabacteroides distasonis\\\\\n",
       "\t ERS852380 & 823    & Parabacteroides distasonis\\\\\n",
       "\t ERS852397 & 338188 & Bacteroides finegoldii    \\\\\n",
       "\\end{tabular}\n"
      ],
      "text/markdown": [
       "\n",
       "A tibble: 6 × 3\n",
       "\n",
       "| Accession_ID &lt;chr&gt; | NCBI_ID &lt;chr&gt; | Taxon_name &lt;chr&gt; |\n",
       "|---|---|---|\n",
       "| ERS852512 | 162156 | uncultured Bacteroides sp. |\n",
       "| ERS852513 | 823    | Parabacteroides distasonis |\n",
       "| ERS852418 | 162156 | uncultured Bacteroides sp. |\n",
       "| ERS852560 | 823    | Parabacteroides distasonis |\n",
       "| ERS852380 | 823    | Parabacteroides distasonis |\n",
       "| ERS852397 | 338188 | Bacteroides finegoldii     |\n",
       "\n"
      ],
      "text/plain": [
       "  Accession_ID NCBI_ID Taxon_name                \n",
       "1 ERS852512    162156  uncultured Bacteroides sp.\n",
       "2 ERS852513    823     Parabacteroides distasonis\n",
       "3 ERS852418    162156  uncultured Bacteroides sp.\n",
       "4 ERS852560    823     Parabacteroides distasonis\n",
       "5 ERS852380    823     Parabacteroides distasonis\n",
       "6 ERS852397    338188  Bacteroides finegoldii    "
      ]
     },
     "metadata": {},
     "output_type": "display_data"
    }
   ],
   "source": [
    "sra_ids_taxids \n",
    "    <- get_taxids_from_assembly_or_accession(sra_ids, db = \"sra\")\n",
    "head(sra_ids_taxids)"
   ]
  },
  {
   "cell_type": "code",
   "execution_count": 223,
   "id": "cb927178-d128-4dfc-95ad-55dd3bd140f1",
   "metadata": {},
   "outputs": [
    {
     "data": {
      "text/html": [
       "<style>\n",
       ".list-inline {list-style: none; margin:0; padding: 0}\n",
       ".list-inline>li {display: inline-block}\n",
       ".list-inline>li:not(:last-child)::after {content: \"\\00b7\"; padding: 0 .5ex}\n",
       "</style>\n",
       "<ol class=list-inline><li>126</li><li>3</li></ol>\n"
      ],
      "text/latex": [
       "\\begin{enumerate*}\n",
       "\\item 126\n",
       "\\item 3\n",
       "\\end{enumerate*}\n"
      ],
      "text/markdown": [
       "1. 126\n",
       "2. 3\n",
       "\n",
       "\n"
      ],
      "text/plain": [
       "[1] 126   3"
      ]
     },
     "metadata": {},
     "output_type": "display_data"
    }
   ],
   "source": [
    "dim(assembly_ids_1_taxids)"
   ]
  },
  {
   "cell_type": "code",
   "execution_count": 224,
   "id": "5acee609-a201-4c6a-b64f-37cc2b034ea5",
   "metadata": {},
   "outputs": [
    {
     "data": {
      "text/html": [
       "<style>\n",
       ".list-inline {list-style: none; margin:0; padding: 0}\n",
       ".list-inline>li {display: inline-block}\n",
       ".list-inline>li:not(:last-child)::after {content: \"\\00b7\"; padding: 0 .5ex}\n",
       "</style>\n",
       "<ol class=list-inline><li>4</li><li>3</li></ol>\n"
      ],
      "text/latex": [
       "\\begin{enumerate*}\n",
       "\\item 4\n",
       "\\item 3\n",
       "\\end{enumerate*}\n"
      ],
      "text/markdown": [
       "1. 4\n",
       "2. 3\n",
       "\n",
       "\n"
      ],
      "text/plain": [
       "[1] 4 3"
      ]
     },
     "metadata": {},
     "output_type": "display_data"
    }
   ],
   "source": [
    "dim(assembly_ids_2_taxids)"
   ]
  },
  {
   "cell_type": "code",
   "execution_count": 225,
   "id": "c2192d67-c1d2-40f3-8f89-0460e016e427",
   "metadata": {},
   "outputs": [
    {
     "data": {
      "text/html": [
       "<style>\n",
       ".list-inline {list-style: none; margin:0; padding: 0}\n",
       ".list-inline>li {display: inline-block}\n",
       ".list-inline>li:not(:last-child)::after {content: \"\\00b7\"; padding: 0 .5ex}\n",
       "</style>\n",
       "<ol class=list-inline><li>12</li><li>3</li></ol>\n"
      ],
      "text/latex": [
       "\\begin{enumerate*}\n",
       "\\item 12\n",
       "\\item 3\n",
       "\\end{enumerate*}\n"
      ],
      "text/markdown": [
       "1. 12\n",
       "2. 3\n",
       "\n",
       "\n"
      ],
      "text/plain": [
       "[1] 12  3"
      ]
     },
     "metadata": {},
     "output_type": "display_data"
    }
   ],
   "source": [
    "dim(sra_ids_taxids)"
   ]
  },
  {
   "cell_type": "code",
   "execution_count": 229,
   "id": "8a885400-0232-4ddf-9d3f-ddf545b6b072",
   "metadata": {},
   "outputs": [
    {
     "data": {
      "text/html": [
       "<table class=\"dataframe\">\n",
       "<caption>A tibble: 6 × 4</caption>\n",
       "<thead>\n",
       "\t<tr><th scope=col>NCBI_ID</th><th scope=col>Genome_ID</th><th scope=col>Accession_ID</th><th scope=col>Taxon_name</th></tr>\n",
       "\t<tr><th scope=col>&lt;chr&gt;</th><th scope=col>&lt;chr&gt;</th><th scope=col>&lt;chr&gt;</th><th scope=col>&lt;chr&gt;</th></tr>\n",
       "</thead>\n",
       "<tbody>\n",
       "\t<tr><td>1194526</td><td>GCF_000332735.1</td><td>NA</td><td>Staphylococcus warneri SG1          </td></tr>\n",
       "\t<tr><td>1339243</td><td>GCF_000798825.1</td><td>NA</td><td>Carnobacterium sp. ZWU0011          </td></tr>\n",
       "\t<tr><td>768486 </td><td>GCF_000271405.2</td><td>NA</td><td>Enterococcus hirae ATCC 9790        </td></tr>\n",
       "\t<tr><td>749517 </td><td>GCF_000205205.1</td><td>NA</td><td>Enterococcus faecalis TX1467        </td></tr>\n",
       "\t<tr><td>373153 </td><td>GCF_000014365.1</td><td>NA</td><td>Streptococcus pneumoniae D39        </td></tr>\n",
       "\t<tr><td>936154 </td><td>GCF_000213825.1</td><td>NA</td><td>Streptococcus parauberis KCTC 11537 </td></tr>\n",
       "</tbody>\n",
       "</table>\n"
      ],
      "text/latex": [
       "A tibble: 6 × 4\n",
       "\\begin{tabular}{llll}\n",
       " NCBI\\_ID & Genome\\_ID & Accession\\_ID & Taxon\\_name\\\\\n",
       " <chr> & <chr> & <chr> & <chr>\\\\\n",
       "\\hline\n",
       "\t 1194526 & GCF\\_000332735.1 & NA & Staphylococcus warneri SG1          \\\\\n",
       "\t 1339243 & GCF\\_000798825.1 & NA & Carnobacterium sp. ZWU0011          \\\\\n",
       "\t 768486  & GCF\\_000271405.2 & NA & Enterococcus hirae ATCC 9790        \\\\\n",
       "\t 749517  & GCF\\_000205205.1 & NA & Enterococcus faecalis TX1467        \\\\\n",
       "\t 373153  & GCF\\_000014365.1 & NA & Streptococcus pneumoniae D39        \\\\\n",
       "\t 936154  & GCF\\_000213825.1 & NA & Streptococcus parauberis KCTC 11537 \\\\\n",
       "\\end{tabular}\n"
      ],
      "text/markdown": [
       "\n",
       "A tibble: 6 × 4\n",
       "\n",
       "| NCBI_ID &lt;chr&gt; | Genome_ID &lt;chr&gt; | Accession_ID &lt;chr&gt; | Taxon_name &lt;chr&gt; |\n",
       "|---|---|---|---|\n",
       "| 1194526 | GCF_000332735.1 | NA | Staphylococcus warneri SG1           |\n",
       "| 1339243 | GCF_000798825.1 | NA | Carnobacterium sp. ZWU0011           |\n",
       "| 768486  | GCF_000271405.2 | NA | Enterococcus hirae ATCC 9790         |\n",
       "| 749517  | GCF_000205205.1 | NA | Enterococcus faecalis TX1467         |\n",
       "| 373153  | GCF_000014365.1 | NA | Streptococcus pneumoniae D39         |\n",
       "| 936154  | GCF_000213825.1 | NA | Streptococcus parauberis KCTC 11537  |\n",
       "\n"
      ],
      "text/plain": [
       "  NCBI_ID Genome_ID       Accession_ID Taxon_name                          \n",
       "1 1194526 GCF_000332735.1 NA           Staphylococcus warneri SG1          \n",
       "2 1339243 GCF_000798825.1 NA           Carnobacterium sp. ZWU0011          \n",
       "3 768486  GCF_000271405.2 NA           Enterococcus hirae ATCC 9790        \n",
       "4 749517  GCF_000205205.1 NA           Enterococcus faecalis TX1467        \n",
       "5 373153  GCF_000014365.1 NA           Streptococcus pneumoniae D39        \n",
       "6 936154  GCF_000213825.1 NA           Streptococcus parauberis KCTC 11537 "
      ]
     },
     "metadata": {},
     "output_type": "display_data"
    }
   ],
   "source": [
    "retrieved_ids_tbl <- bind_rows(assembly_ids_1_taxids, assembly_ids_2_taxids, sra_ids_taxids) |>\n",
    "    relocate(NCBI_ID, Genome_ID, Accession_ID, Taxon_name)\n",
    "head(retrieved_ids_tbl)"
   ]
  },
  {
   "cell_type": "code",
   "execution_count": 231,
   "id": "013a5697-5cb6-4803-b8a3-4005f7f92ef1",
   "metadata": {},
   "outputs": [],
   "source": [
    "## save the file\n",
    "## it's better to back this data now since it can take a while to fetch the data\n",
    "## again\n",
    "readr::write_tsv(retrieved_ids_tbl, \"spore_shape_retrieved_ids_tbl.tsv\")"
   ]
  },
  {
   "cell_type": "code",
   "execution_count": 275,
   "id": "c7b85d05-a53d-4b89-9e1a-89c4a968fba9",
   "metadata": {},
   "outputs": [],
   "source": [
    "## Some Ids in the Accession_ID column should be in the Genome ID\n",
    "## These entries start with GCA instead of GCF\n",
    "spore_shape_edited <- spore_shape  %>% \n",
    "    mutate(\n",
    "        Genome_ID = ifelse(grepl(\"^GCA\", Accession_ID), Accession_ID, Genome_ID),\n",
    "        Accession_ID = ifelse(grepl(\"^GCA\", Accession_ID), NA, Accession_ID)\n",
    "    )"
   ]
  },
  {
   "cell_type": "code",
   "execution_count": 370,
   "id": "1e7dca27-4601-4364-950b-9d34eddda72e",
   "metadata": {},
   "outputs": [],
   "source": [
    "x <- retrieved_ids_tbl %>% \n",
    "    filter(!is.na(Genome_ID)) %>% \n",
    "    left_join(\n",
    "        spore_shape_edited, by = \"Genome_ID\", na_matches = \"never\",\n",
    "        suffix = c(\"\", \".y\")\n",
    "    ) %>% \n",
    "    select(-ends_with(\".y\")) %>% \n",
    "    mutate(NCBI_ID = as.integer(NCBI_ID))"
   ]
  },
  {
   "cell_type": "code",
   "execution_count": 371,
   "id": "a174fd88-01e5-4160-af6b-77a019da353f",
   "metadata": {},
   "outputs": [],
   "source": [
    "y <- retrieved_ids_tbl %>% \n",
    "    mutate(NCBI_ID = as.integer(NCBI_ID)) %>% \n",
    "    filter(!is.na(Accession_ID)) %>% \n",
    "    left_join(\n",
    "        spore_shape_edited, by = \"Accession_ID\", na_matches = \"never\",\n",
    "        suffix = c(\"\", \".y\")\n",
    "    ) %>% \n",
    "    select(-ends_with(\".y\"))"
   ]
  },
  {
   "cell_type": "code",
   "execution_count": 385,
   "id": "82b834ac-931f-4992-933e-3d9f10991135",
   "metadata": {},
   "outputs": [],
   "source": [
    "spore_shape_edited_2 <- spore_shape_edited %>% \n",
    "    mutate(NCBI_ID = as.integer(NCBI_ID)) %>% \n",
    "    filter(!Genome_ID %in% c(assembly_ids_1, assembly_ids_2)) %>% # remove old entries for Genome_ID\n",
    "    filter(!Accession_ID %in% sra_ids) %>% # remove old entries for Accession_ID\n",
    "    bind_rows(x)  %>% # add new entries for Genome_ID\n",
    "    bind_rows(y) # add new entries for Accession_ID"
   ]
  },
  {
   "cell_type": "markdown",
   "id": "ca8fc242-adfb-4d80-9fcf-51d9102dad57",
   "metadata": {},
   "source": [
    "Let's confirm that some of the new entires look as they should"
   ]
  },
  {
   "cell_type": "markdown",
   "id": "e728d3c2-2092-4ec5-9de7-be23578fbf27",
   "metadata": {},
   "source": [
    "**For Genome IDs starting with GCF**"
   ]
  },
  {
   "cell_type": "code",
   "execution_count": 398,
   "id": "f7a3e136-7a88-4286-8523-2c5160c15066",
   "metadata": {},
   "outputs": [
    {
     "data": {
      "text/html": [
       "<table class=\"dataframe\">\n",
       "<caption>A tibble: 6 × 8</caption>\n",
       "<thead>\n",
       "\t<tr><th scope=col>NCBI_ID</th><th scope=col>Genome_ID</th><th scope=col>Accession_ID</th><th scope=col>Taxon_name</th><th scope=col>Attribute</th><th scope=col>Attribute_value</th><th scope=col>Evidence</th><th scope=col>Confidence_interval</th></tr>\n",
       "\t<tr><th scope=col>&lt;dbl&gt;</th><th scope=col>&lt;chr&gt;</th><th scope=col>&lt;chr&gt;</th><th scope=col>&lt;chr&gt;</th><th scope=col>&lt;chr&gt;</th><th scope=col>&lt;chr&gt;</th><th scope=col>&lt;chr&gt;</th><th scope=col>&lt;chr&gt;</th></tr>\n",
       "</thead>\n",
       "<tbody>\n",
       "\t<tr><td>NA</td><td>GCF_000350165.2</td><td>NA</td><td>Halanaerobiales</td><td>endospore</td><td>FALSE</td><td>EXP</td><td>Usually</td></tr>\n",
       "\t<tr><td>NA</td><td>GCF_000350165.3</td><td>NA</td><td>Halanaerobiales</td><td>endospore</td><td>FALSE</td><td>EXP</td><td>Usually</td></tr>\n",
       "\t<tr><td>NA</td><td>GCF_000350165.4</td><td>NA</td><td>Halanaerobiales</td><td>endospore</td><td>FALSE</td><td>EXP</td><td>Usually</td></tr>\n",
       "\t<tr><td>NA</td><td>GCF_000350165.5</td><td>NA</td><td>Halanaerobiales</td><td>endospore</td><td>FALSE</td><td>EXP</td><td>Usually</td></tr>\n",
       "\t<tr><td>NA</td><td>GCF_000350165.6</td><td>NA</td><td>Halanaerobiales</td><td>endospore</td><td>FALSE</td><td>EXP</td><td>Usually</td></tr>\n",
       "\t<tr><td>NA</td><td>GCF_000332735.1</td><td>NA</td><td>Bacillales     </td><td>endospore</td><td>FALSE</td><td>EXP</td><td>Usually</td></tr>\n",
       "</tbody>\n",
       "</table>\n"
      ],
      "text/latex": [
       "A tibble: 6 × 8\n",
       "\\begin{tabular}{llllllll}\n",
       " NCBI\\_ID & Genome\\_ID & Accession\\_ID & Taxon\\_name & Attribute & Attribute\\_value & Evidence & Confidence\\_interval\\\\\n",
       " <dbl> & <chr> & <chr> & <chr> & <chr> & <chr> & <chr> & <chr>\\\\\n",
       "\\hline\n",
       "\t NA & GCF\\_000350165.2 & NA & Halanaerobiales & endospore & FALSE & EXP & Usually\\\\\n",
       "\t NA & GCF\\_000350165.3 & NA & Halanaerobiales & endospore & FALSE & EXP & Usually\\\\\n",
       "\t NA & GCF\\_000350165.4 & NA & Halanaerobiales & endospore & FALSE & EXP & Usually\\\\\n",
       "\t NA & GCF\\_000350165.5 & NA & Halanaerobiales & endospore & FALSE & EXP & Usually\\\\\n",
       "\t NA & GCF\\_000350165.6 & NA & Halanaerobiales & endospore & FALSE & EXP & Usually\\\\\n",
       "\t NA & GCF\\_000332735.1 & NA & Bacillales      & endospore & FALSE & EXP & Usually\\\\\n",
       "\\end{tabular}\n"
      ],
      "text/markdown": [
       "\n",
       "A tibble: 6 × 8\n",
       "\n",
       "| NCBI_ID &lt;dbl&gt; | Genome_ID &lt;chr&gt; | Accession_ID &lt;chr&gt; | Taxon_name &lt;chr&gt; | Attribute &lt;chr&gt; | Attribute_value &lt;chr&gt; | Evidence &lt;chr&gt; | Confidence_interval &lt;chr&gt; |\n",
       "|---|---|---|---|---|---|---|---|\n",
       "| NA | GCF_000350165.2 | NA | Halanaerobiales | endospore | FALSE | EXP | Usually |\n",
       "| NA | GCF_000350165.3 | NA | Halanaerobiales | endospore | FALSE | EXP | Usually |\n",
       "| NA | GCF_000350165.4 | NA | Halanaerobiales | endospore | FALSE | EXP | Usually |\n",
       "| NA | GCF_000350165.5 | NA | Halanaerobiales | endospore | FALSE | EXP | Usually |\n",
       "| NA | GCF_000350165.6 | NA | Halanaerobiales | endospore | FALSE | EXP | Usually |\n",
       "| NA | GCF_000332735.1 | NA | Bacillales      | endospore | FALSE | EXP | Usually |\n",
       "\n"
      ],
      "text/plain": [
       "  NCBI_ID Genome_ID       Accession_ID Taxon_name      Attribute\n",
       "1 NA      GCF_000350165.2 NA           Halanaerobiales endospore\n",
       "2 NA      GCF_000350165.3 NA           Halanaerobiales endospore\n",
       "3 NA      GCF_000350165.4 NA           Halanaerobiales endospore\n",
       "4 NA      GCF_000350165.5 NA           Halanaerobiales endospore\n",
       "5 NA      GCF_000350165.6 NA           Halanaerobiales endospore\n",
       "6 NA      GCF_000332735.1 NA           Bacillales      endospore\n",
       "  Attribute_value Evidence Confidence_interval\n",
       "1 FALSE           EXP      Usually            \n",
       "2 FALSE           EXP      Usually            \n",
       "3 FALSE           EXP      Usually            \n",
       "4 FALSE           EXP      Usually            \n",
       "5 FALSE           EXP      Usually            \n",
       "6 FALSE           EXP      Usually            "
      ]
     },
     "metadata": {},
     "output_type": "display_data"
    }
   ],
   "source": [
    "## original dataset\n",
    "spore_shape %>% \n",
    "    filter(Genome_ID %in% assembly_ids_1) %>% \n",
    "    select(-Attribute_source) %>% # this column occupies too much space\n",
    "    head()"
   ]
  },
  {
   "cell_type": "code",
   "execution_count": 397,
   "id": "1ba9bbbb-64bb-4a1d-bf14-1b23819265a4",
   "metadata": {},
   "outputs": [
    {
     "data": {
      "text/html": [
       "<table class=\"dataframe\">\n",
       "<caption>A tibble: 6 × 8</caption>\n",
       "<thead>\n",
       "\t<tr><th scope=col>NCBI_ID</th><th scope=col>Genome_ID</th><th scope=col>Accession_ID</th><th scope=col>Taxon_name</th><th scope=col>Attribute</th><th scope=col>Attribute_value</th><th scope=col>Evidence</th><th scope=col>Confidence_interval</th></tr>\n",
       "\t<tr><th scope=col>&lt;int&gt;</th><th scope=col>&lt;chr&gt;</th><th scope=col>&lt;chr&gt;</th><th scope=col>&lt;chr&gt;</th><th scope=col>&lt;chr&gt;</th><th scope=col>&lt;chr&gt;</th><th scope=col>&lt;chr&gt;</th><th scope=col>&lt;chr&gt;</th></tr>\n",
       "</thead>\n",
       "<tbody>\n",
       "\t<tr><td>1194526</td><td>GCF_000332735.1</td><td>NA</td><td>Staphylococcus warneri SG1          </td><td>endospore</td><td>FALSE</td><td>EXP</td><td>Usually</td></tr>\n",
       "\t<tr><td>1339243</td><td>GCF_000798825.1</td><td>NA</td><td>Carnobacterium sp. ZWU0011          </td><td>endospore</td><td>FALSE</td><td>EXP</td><td>Usually</td></tr>\n",
       "\t<tr><td> 768486</td><td>GCF_000271405.2</td><td>NA</td><td>Enterococcus hirae ATCC 9790        </td><td>endospore</td><td>FALSE</td><td>EXP</td><td>Usually</td></tr>\n",
       "\t<tr><td> 749517</td><td>GCF_000205205.1</td><td>NA</td><td>Enterococcus faecalis TX1467        </td><td>endospore</td><td>FALSE</td><td>EXP</td><td>Usually</td></tr>\n",
       "\t<tr><td> 373153</td><td>GCF_000014365.1</td><td>NA</td><td>Streptococcus pneumoniae D39        </td><td>endospore</td><td>FALSE</td><td>EXP</td><td>Usually</td></tr>\n",
       "\t<tr><td> 936154</td><td>GCF_000213825.1</td><td>NA</td><td>Streptococcus parauberis KCTC 11537 </td><td>endospore</td><td>FALSE</td><td>EXP</td><td>Usually</td></tr>\n",
       "</tbody>\n",
       "</table>\n"
      ],
      "text/latex": [
       "A tibble: 6 × 8\n",
       "\\begin{tabular}{llllllll}\n",
       " NCBI\\_ID & Genome\\_ID & Accession\\_ID & Taxon\\_name & Attribute & Attribute\\_value & Evidence & Confidence\\_interval\\\\\n",
       " <int> & <chr> & <chr> & <chr> & <chr> & <chr> & <chr> & <chr>\\\\\n",
       "\\hline\n",
       "\t 1194526 & GCF\\_000332735.1 & NA & Staphylococcus warneri SG1           & endospore & FALSE & EXP & Usually\\\\\n",
       "\t 1339243 & GCF\\_000798825.1 & NA & Carnobacterium sp. ZWU0011           & endospore & FALSE & EXP & Usually\\\\\n",
       "\t  768486 & GCF\\_000271405.2 & NA & Enterococcus hirae ATCC 9790         & endospore & FALSE & EXP & Usually\\\\\n",
       "\t  749517 & GCF\\_000205205.1 & NA & Enterococcus faecalis TX1467         & endospore & FALSE & EXP & Usually\\\\\n",
       "\t  373153 & GCF\\_000014365.1 & NA & Streptococcus pneumoniae D39         & endospore & FALSE & EXP & Usually\\\\\n",
       "\t  936154 & GCF\\_000213825.1 & NA & Streptococcus parauberis KCTC 11537  & endospore & FALSE & EXP & Usually\\\\\n",
       "\\end{tabular}\n"
      ],
      "text/markdown": [
       "\n",
       "A tibble: 6 × 8\n",
       "\n",
       "| NCBI_ID &lt;int&gt; | Genome_ID &lt;chr&gt; | Accession_ID &lt;chr&gt; | Taxon_name &lt;chr&gt; | Attribute &lt;chr&gt; | Attribute_value &lt;chr&gt; | Evidence &lt;chr&gt; | Confidence_interval &lt;chr&gt; |\n",
       "|---|---|---|---|---|---|---|---|\n",
       "| 1194526 | GCF_000332735.1 | NA | Staphylococcus warneri SG1           | endospore | FALSE | EXP | Usually |\n",
       "| 1339243 | GCF_000798825.1 | NA | Carnobacterium sp. ZWU0011           | endospore | FALSE | EXP | Usually |\n",
       "|  768486 | GCF_000271405.2 | NA | Enterococcus hirae ATCC 9790         | endospore | FALSE | EXP | Usually |\n",
       "|  749517 | GCF_000205205.1 | NA | Enterococcus faecalis TX1467         | endospore | FALSE | EXP | Usually |\n",
       "|  373153 | GCF_000014365.1 | NA | Streptococcus pneumoniae D39         | endospore | FALSE | EXP | Usually |\n",
       "|  936154 | GCF_000213825.1 | NA | Streptococcus parauberis KCTC 11537  | endospore | FALSE | EXP | Usually |\n",
       "\n"
      ],
      "text/plain": [
       "  NCBI_ID Genome_ID       Accession_ID Taxon_name                          \n",
       "1 1194526 GCF_000332735.1 NA           Staphylococcus warneri SG1          \n",
       "2 1339243 GCF_000798825.1 NA           Carnobacterium sp. ZWU0011          \n",
       "3  768486 GCF_000271405.2 NA           Enterococcus hirae ATCC 9790        \n",
       "4  749517 GCF_000205205.1 NA           Enterococcus faecalis TX1467        \n",
       "5  373153 GCF_000014365.1 NA           Streptococcus pneumoniae D39        \n",
       "6  936154 GCF_000213825.1 NA           Streptococcus parauberis KCTC 11537 \n",
       "  Attribute Attribute_value Evidence Confidence_interval\n",
       "1 endospore FALSE           EXP      Usually            \n",
       "2 endospore FALSE           EXP      Usually            \n",
       "3 endospore FALSE           EXP      Usually            \n",
       "4 endospore FALSE           EXP      Usually            \n",
       "5 endospore FALSE           EXP      Usually            \n",
       "6 endospore FALSE           EXP      Usually            "
      ]
     },
     "metadata": {},
     "output_type": "display_data"
    }
   ],
   "source": [
    "## edited dataset\n",
    "spore_shape_edited_2  %>%\n",
    "filter(Genome_ID %in% assembly_ids_1) %>% \n",
    "    select(-Attribute_source) %>% \n",
    "    head()"
   ]
  },
  {
   "cell_type": "markdown",
   "id": "3c2e5804-a757-4144-97e2-5cd9b17cc657",
   "metadata": {},
   "source": [
    "**For Genome IDs starting with GCA**"
   ]
  },
  {
   "cell_type": "code",
   "execution_count": 408,
   "id": "fa41ff02-5586-4cf6-9519-a371cb0bd269",
   "metadata": {},
   "outputs": [
    {
     "data": {
      "text/html": [
       "<table class=\"dataframe\">\n",
       "<caption>A tibble: 4 × 8</caption>\n",
       "<thead>\n",
       "\t<tr><th scope=col>NCBI_ID</th><th scope=col>Genome_ID</th><th scope=col>Accession_ID</th><th scope=col>Taxon_name</th><th scope=col>Attribute</th><th scope=col>Attribute_value</th><th scope=col>Evidence</th><th scope=col>Confidence_interval</th></tr>\n",
       "\t<tr><th scope=col>&lt;dbl&gt;</th><th scope=col>&lt;chr&gt;</th><th scope=col>&lt;chr&gt;</th><th scope=col>&lt;chr&gt;</th><th scope=col>&lt;chr&gt;</th><th scope=col>&lt;chr&gt;</th><th scope=col>&lt;chr&gt;</th><th scope=col>&lt;chr&gt;</th></tr>\n",
       "</thead>\n",
       "<tbody>\n",
       "\t<tr><td>NA</td><td>NA</td><td>GCA_001311805.1</td><td>Bacillales</td><td>endospore</td><td>TRUE</td><td>EXP</td><td>Usually</td></tr>\n",
       "\t<tr><td>NA</td><td>NA</td><td>GCA_001310515.1</td><td>Bacillales</td><td>endospore</td><td>TRUE</td><td>EXP</td><td>Usually</td></tr>\n",
       "\t<tr><td>NA</td><td>NA</td><td>GCA_001310675.1</td><td>Bacillales</td><td>endospore</td><td>TRUE</td><td>EXP</td><td>Usually</td></tr>\n",
       "\t<tr><td>NA</td><td>NA</td><td>GCA_001310555.1</td><td>Bacillales</td><td>endospore</td><td>TRUE</td><td>EXP</td><td>Usually</td></tr>\n",
       "</tbody>\n",
       "</table>\n"
      ],
      "text/latex": [
       "A tibble: 4 × 8\n",
       "\\begin{tabular}{llllllll}\n",
       " NCBI\\_ID & Genome\\_ID & Accession\\_ID & Taxon\\_name & Attribute & Attribute\\_value & Evidence & Confidence\\_interval\\\\\n",
       " <dbl> & <chr> & <chr> & <chr> & <chr> & <chr> & <chr> & <chr>\\\\\n",
       "\\hline\n",
       "\t NA & NA & GCA\\_001311805.1 & Bacillales & endospore & TRUE & EXP & Usually\\\\\n",
       "\t NA & NA & GCA\\_001310515.1 & Bacillales & endospore & TRUE & EXP & Usually\\\\\n",
       "\t NA & NA & GCA\\_001310675.1 & Bacillales & endospore & TRUE & EXP & Usually\\\\\n",
       "\t NA & NA & GCA\\_001310555.1 & Bacillales & endospore & TRUE & EXP & Usually\\\\\n",
       "\\end{tabular}\n"
      ],
      "text/markdown": [
       "\n",
       "A tibble: 4 × 8\n",
       "\n",
       "| NCBI_ID &lt;dbl&gt; | Genome_ID &lt;chr&gt; | Accession_ID &lt;chr&gt; | Taxon_name &lt;chr&gt; | Attribute &lt;chr&gt; | Attribute_value &lt;chr&gt; | Evidence &lt;chr&gt; | Confidence_interval &lt;chr&gt; |\n",
       "|---|---|---|---|---|---|---|---|\n",
       "| NA | NA | GCA_001311805.1 | Bacillales | endospore | TRUE | EXP | Usually |\n",
       "| NA | NA | GCA_001310515.1 | Bacillales | endospore | TRUE | EXP | Usually |\n",
       "| NA | NA | GCA_001310675.1 | Bacillales | endospore | TRUE | EXP | Usually |\n",
       "| NA | NA | GCA_001310555.1 | Bacillales | endospore | TRUE | EXP | Usually |\n",
       "\n"
      ],
      "text/plain": [
       "  NCBI_ID Genome_ID Accession_ID    Taxon_name Attribute Attribute_value\n",
       "1 NA      NA        GCA_001311805.1 Bacillales endospore TRUE           \n",
       "2 NA      NA        GCA_001310515.1 Bacillales endospore TRUE           \n",
       "3 NA      NA        GCA_001310675.1 Bacillales endospore TRUE           \n",
       "4 NA      NA        GCA_001310555.1 Bacillales endospore TRUE           \n",
       "  Evidence Confidence_interval\n",
       "1 EXP      Usually            \n",
       "2 EXP      Usually            \n",
       "3 EXP      Usually            \n",
       "4 EXP      Usually            "
      ]
     },
     "metadata": {},
     "output_type": "display_data"
    }
   ],
   "source": [
    "## original\n",
    "spore_shape %>% \n",
    "    filter(Accession_ID %in% assembly_ids_2) %>% \n",
    "    select(-Attribute_source) %>% \n",
    "    head()"
   ]
  },
  {
   "cell_type": "code",
   "execution_count": 409,
   "id": "32652cfc-f2d0-4297-9e87-9e3708027126",
   "metadata": {},
   "outputs": [
    {
     "data": {
      "text/html": [
       "<table class=\"dataframe\">\n",
       "<caption>A tibble: 4 × 8</caption>\n",
       "<thead>\n",
       "\t<tr><th scope=col>NCBI_ID</th><th scope=col>Genome_ID</th><th scope=col>Accession_ID</th><th scope=col>Taxon_name</th><th scope=col>Attribute</th><th scope=col>Attribute_value</th><th scope=col>Evidence</th><th scope=col>Confidence_interval</th></tr>\n",
       "\t<tr><th scope=col>&lt;int&gt;</th><th scope=col>&lt;chr&gt;</th><th scope=col>&lt;chr&gt;</th><th scope=col>&lt;chr&gt;</th><th scope=col>&lt;chr&gt;</th><th scope=col>&lt;chr&gt;</th><th scope=col>&lt;chr&gt;</th><th scope=col>&lt;chr&gt;</th></tr>\n",
       "</thead>\n",
       "<tbody>\n",
       "\t<tr><td>1293599</td><td>GCA_001311805.1</td><td>NA</td><td>Lentibacillus juripiscarius JCM 12147 </td><td>endospore</td><td>TRUE</td><td>EXP</td><td>Usually</td></tr>\n",
       "\t<tr><td>1460650</td><td>GCA_001310515.1</td><td>NA</td><td>Bacillus sp. JCM 19056                </td><td>endospore</td><td>TRUE</td><td>EXP</td><td>Usually</td></tr>\n",
       "\t<tr><td>1481930</td><td>GCA_001310675.1</td><td>NA</td><td>Oceanobacillus sp. JCM 19060          </td><td>endospore</td><td>TRUE</td><td>EXP</td><td>Usually</td></tr>\n",
       "\t<tr><td>1460652</td><td>GCA_001310555.1</td><td>NA</td><td>Bacillus sp. JCM 19058                </td><td>endospore</td><td>TRUE</td><td>EXP</td><td>Usually</td></tr>\n",
       "</tbody>\n",
       "</table>\n"
      ],
      "text/latex": [
       "A tibble: 4 × 8\n",
       "\\begin{tabular}{llllllll}\n",
       " NCBI\\_ID & Genome\\_ID & Accession\\_ID & Taxon\\_name & Attribute & Attribute\\_value & Evidence & Confidence\\_interval\\\\\n",
       " <int> & <chr> & <chr> & <chr> & <chr> & <chr> & <chr> & <chr>\\\\\n",
       "\\hline\n",
       "\t 1293599 & GCA\\_001311805.1 & NA & Lentibacillus juripiscarius JCM 12147  & endospore & TRUE & EXP & Usually\\\\\n",
       "\t 1460650 & GCA\\_001310515.1 & NA & Bacillus sp. JCM 19056                 & endospore & TRUE & EXP & Usually\\\\\n",
       "\t 1481930 & GCA\\_001310675.1 & NA & Oceanobacillus sp. JCM 19060           & endospore & TRUE & EXP & Usually\\\\\n",
       "\t 1460652 & GCA\\_001310555.1 & NA & Bacillus sp. JCM 19058                 & endospore & TRUE & EXP & Usually\\\\\n",
       "\\end{tabular}\n"
      ],
      "text/markdown": [
       "\n",
       "A tibble: 4 × 8\n",
       "\n",
       "| NCBI_ID &lt;int&gt; | Genome_ID &lt;chr&gt; | Accession_ID &lt;chr&gt; | Taxon_name &lt;chr&gt; | Attribute &lt;chr&gt; | Attribute_value &lt;chr&gt; | Evidence &lt;chr&gt; | Confidence_interval &lt;chr&gt; |\n",
       "|---|---|---|---|---|---|---|---|\n",
       "| 1293599 | GCA_001311805.1 | NA | Lentibacillus juripiscarius JCM 12147  | endospore | TRUE | EXP | Usually |\n",
       "| 1460650 | GCA_001310515.1 | NA | Bacillus sp. JCM 19056                 | endospore | TRUE | EXP | Usually |\n",
       "| 1481930 | GCA_001310675.1 | NA | Oceanobacillus sp. JCM 19060           | endospore | TRUE | EXP | Usually |\n",
       "| 1460652 | GCA_001310555.1 | NA | Bacillus sp. JCM 19058                 | endospore | TRUE | EXP | Usually |\n",
       "\n"
      ],
      "text/plain": [
       "  NCBI_ID Genome_ID       Accession_ID Taxon_name                            \n",
       "1 1293599 GCA_001311805.1 NA           Lentibacillus juripiscarius JCM 12147 \n",
       "2 1460650 GCA_001310515.1 NA           Bacillus sp. JCM 19056                \n",
       "3 1481930 GCA_001310675.1 NA           Oceanobacillus sp. JCM 19060          \n",
       "4 1460652 GCA_001310555.1 NA           Bacillus sp. JCM 19058                \n",
       "  Attribute Attribute_value Evidence Confidence_interval\n",
       "1 endospore TRUE            EXP      Usually            \n",
       "2 endospore TRUE            EXP      Usually            \n",
       "3 endospore TRUE            EXP      Usually            \n",
       "4 endospore TRUE            EXP      Usually            "
      ]
     },
     "metadata": {},
     "output_type": "display_data"
    }
   ],
   "source": [
    "## edited\n",
    "spore_shape_edited_2 %>% \n",
    "    filter(Genome_ID %in% assembly_ids_2) %>% \n",
    "    select(-Attribute_source) %>% \n",
    "    head()"
   ]
  },
  {
   "cell_type": "markdown",
   "id": "8e1868cd-c11b-495d-b212-53de740f37c9",
   "metadata": {},
   "source": [
    "**For Accession_ID**"
   ]
  },
  {
   "cell_type": "code",
   "execution_count": 399,
   "id": "60868a29-8581-4e97-bbaf-c346cb93a5e0",
   "metadata": {},
   "outputs": [
    {
     "data": {
      "text/html": [
       "<table class=\"dataframe\">\n",
       "<caption>A tibble: 6 × 8</caption>\n",
       "<thead>\n",
       "\t<tr><th scope=col>NCBI_ID</th><th scope=col>Genome_ID</th><th scope=col>Accession_ID</th><th scope=col>Taxon_name</th><th scope=col>Attribute</th><th scope=col>Attribute_value</th><th scope=col>Evidence</th><th scope=col>Confidence_interval</th></tr>\n",
       "\t<tr><th scope=col>&lt;dbl&gt;</th><th scope=col>&lt;chr&gt;</th><th scope=col>&lt;chr&gt;</th><th scope=col>&lt;chr&gt;</th><th scope=col>&lt;chr&gt;</th><th scope=col>&lt;chr&gt;</th><th scope=col>&lt;chr&gt;</th><th scope=col>&lt;chr&gt;</th></tr>\n",
       "</thead>\n",
       "<tbody>\n",
       "\t<tr><td>NA</td><td>NA</td><td>ERS852512</td><td>Bacteroidetes</td><td>endospore</td><td>FALSE</td><td>EXP</td><td>Usually</td></tr>\n",
       "\t<tr><td>NA</td><td>NA</td><td>ERS852513</td><td>Bacteroidetes</td><td>endospore</td><td>FALSE</td><td>EXP</td><td>Usually</td></tr>\n",
       "\t<tr><td>NA</td><td>NA</td><td>ERS852418</td><td>Bacteroidetes</td><td>endospore</td><td>FALSE</td><td>EXP</td><td>Usually</td></tr>\n",
       "\t<tr><td>NA</td><td>NA</td><td>ERS852560</td><td>Bacteroidetes</td><td>endospore</td><td>FALSE</td><td>EXP</td><td>Usually</td></tr>\n",
       "\t<tr><td>NA</td><td>NA</td><td>ERS852380</td><td>Bacteroidetes</td><td>endospore</td><td>FALSE</td><td>EXP</td><td>Usually</td></tr>\n",
       "\t<tr><td>NA</td><td>NA</td><td>ERS852397</td><td>Bacteroidetes</td><td>endospore</td><td>FALSE</td><td>EXP</td><td>Usually</td></tr>\n",
       "</tbody>\n",
       "</table>\n"
      ],
      "text/latex": [
       "A tibble: 6 × 8\n",
       "\\begin{tabular}{llllllll}\n",
       " NCBI\\_ID & Genome\\_ID & Accession\\_ID & Taxon\\_name & Attribute & Attribute\\_value & Evidence & Confidence\\_interval\\\\\n",
       " <dbl> & <chr> & <chr> & <chr> & <chr> & <chr> & <chr> & <chr>\\\\\n",
       "\\hline\n",
       "\t NA & NA & ERS852512 & Bacteroidetes & endospore & FALSE & EXP & Usually\\\\\n",
       "\t NA & NA & ERS852513 & Bacteroidetes & endospore & FALSE & EXP & Usually\\\\\n",
       "\t NA & NA & ERS852418 & Bacteroidetes & endospore & FALSE & EXP & Usually\\\\\n",
       "\t NA & NA & ERS852560 & Bacteroidetes & endospore & FALSE & EXP & Usually\\\\\n",
       "\t NA & NA & ERS852380 & Bacteroidetes & endospore & FALSE & EXP & Usually\\\\\n",
       "\t NA & NA & ERS852397 & Bacteroidetes & endospore & FALSE & EXP & Usually\\\\\n",
       "\\end{tabular}\n"
      ],
      "text/markdown": [
       "\n",
       "A tibble: 6 × 8\n",
       "\n",
       "| NCBI_ID &lt;dbl&gt; | Genome_ID &lt;chr&gt; | Accession_ID &lt;chr&gt; | Taxon_name &lt;chr&gt; | Attribute &lt;chr&gt; | Attribute_value &lt;chr&gt; | Evidence &lt;chr&gt; | Confidence_interval &lt;chr&gt; |\n",
       "|---|---|---|---|---|---|---|---|\n",
       "| NA | NA | ERS852512 | Bacteroidetes | endospore | FALSE | EXP | Usually |\n",
       "| NA | NA | ERS852513 | Bacteroidetes | endospore | FALSE | EXP | Usually |\n",
       "| NA | NA | ERS852418 | Bacteroidetes | endospore | FALSE | EXP | Usually |\n",
       "| NA | NA | ERS852560 | Bacteroidetes | endospore | FALSE | EXP | Usually |\n",
       "| NA | NA | ERS852380 | Bacteroidetes | endospore | FALSE | EXP | Usually |\n",
       "| NA | NA | ERS852397 | Bacteroidetes | endospore | FALSE | EXP | Usually |\n",
       "\n"
      ],
      "text/plain": [
       "  NCBI_ID Genome_ID Accession_ID Taxon_name    Attribute Attribute_value\n",
       "1 NA      NA        ERS852512    Bacteroidetes endospore FALSE          \n",
       "2 NA      NA        ERS852513    Bacteroidetes endospore FALSE          \n",
       "3 NA      NA        ERS852418    Bacteroidetes endospore FALSE          \n",
       "4 NA      NA        ERS852560    Bacteroidetes endospore FALSE          \n",
       "5 NA      NA        ERS852380    Bacteroidetes endospore FALSE          \n",
       "6 NA      NA        ERS852397    Bacteroidetes endospore FALSE          \n",
       "  Evidence Confidence_interval\n",
       "1 EXP      Usually            \n",
       "2 EXP      Usually            \n",
       "3 EXP      Usually            \n",
       "4 EXP      Usually            \n",
       "5 EXP      Usually            \n",
       "6 EXP      Usually            "
      ]
     },
     "metadata": {},
     "output_type": "display_data"
    }
   ],
   "source": [
    "## orginal\n",
    "spore_shape %>% \n",
    "    filter(Accession_ID %in% sra_ids) %>% \n",
    "    select(-Attribute_source) %>% \n",
    "    head()"
   ]
  },
  {
   "cell_type": "code",
   "execution_count": 403,
   "id": "f77cd45c-cf3b-49de-b459-988c8fac7de0",
   "metadata": {},
   "outputs": [
    {
     "data": {
      "text/html": [
       "<table class=\"dataframe\">\n",
       "<caption>A tibble: 6 × 8</caption>\n",
       "<thead>\n",
       "\t<tr><th scope=col>NCBI_ID</th><th scope=col>Genome_ID</th><th scope=col>Accession_ID</th><th scope=col>Taxon_name</th><th scope=col>Attribute</th><th scope=col>Attribute_value</th><th scope=col>Evidence</th><th scope=col>Confidence_interval</th></tr>\n",
       "\t<tr><th scope=col>&lt;int&gt;</th><th scope=col>&lt;chr&gt;</th><th scope=col>&lt;chr&gt;</th><th scope=col>&lt;chr&gt;</th><th scope=col>&lt;chr&gt;</th><th scope=col>&lt;chr&gt;</th><th scope=col>&lt;chr&gt;</th><th scope=col>&lt;chr&gt;</th></tr>\n",
       "</thead>\n",
       "<tbody>\n",
       "\t<tr><td>162156</td><td>NA</td><td>ERS852512</td><td>uncultured Bacteroides sp.</td><td>endospore</td><td>FALSE</td><td>EXP</td><td>Usually</td></tr>\n",
       "\t<tr><td>   823</td><td>NA</td><td>ERS852513</td><td>Parabacteroides distasonis</td><td>endospore</td><td>FALSE</td><td>EXP</td><td>Usually</td></tr>\n",
       "\t<tr><td>162156</td><td>NA</td><td>ERS852418</td><td>uncultured Bacteroides sp.</td><td>endospore</td><td>FALSE</td><td>EXP</td><td>Usually</td></tr>\n",
       "\t<tr><td>   823</td><td>NA</td><td>ERS852560</td><td>Parabacteroides distasonis</td><td>endospore</td><td>FALSE</td><td>EXP</td><td>Usually</td></tr>\n",
       "\t<tr><td>   823</td><td>NA</td><td>ERS852380</td><td>Parabacteroides distasonis</td><td>endospore</td><td>FALSE</td><td>EXP</td><td>Usually</td></tr>\n",
       "\t<tr><td>338188</td><td>NA</td><td>ERS852397</td><td>Bacteroides finegoldii    </td><td>endospore</td><td>FALSE</td><td>EXP</td><td>Usually</td></tr>\n",
       "</tbody>\n",
       "</table>\n"
      ],
      "text/latex": [
       "A tibble: 6 × 8\n",
       "\\begin{tabular}{llllllll}\n",
       " NCBI\\_ID & Genome\\_ID & Accession\\_ID & Taxon\\_name & Attribute & Attribute\\_value & Evidence & Confidence\\_interval\\\\\n",
       " <int> & <chr> & <chr> & <chr> & <chr> & <chr> & <chr> & <chr>\\\\\n",
       "\\hline\n",
       "\t 162156 & NA & ERS852512 & uncultured Bacteroides sp. & endospore & FALSE & EXP & Usually\\\\\n",
       "\t    823 & NA & ERS852513 & Parabacteroides distasonis & endospore & FALSE & EXP & Usually\\\\\n",
       "\t 162156 & NA & ERS852418 & uncultured Bacteroides sp. & endospore & FALSE & EXP & Usually\\\\\n",
       "\t    823 & NA & ERS852560 & Parabacteroides distasonis & endospore & FALSE & EXP & Usually\\\\\n",
       "\t    823 & NA & ERS852380 & Parabacteroides distasonis & endospore & FALSE & EXP & Usually\\\\\n",
       "\t 338188 & NA & ERS852397 & Bacteroides finegoldii     & endospore & FALSE & EXP & Usually\\\\\n",
       "\\end{tabular}\n"
      ],
      "text/markdown": [
       "\n",
       "A tibble: 6 × 8\n",
       "\n",
       "| NCBI_ID &lt;int&gt; | Genome_ID &lt;chr&gt; | Accession_ID &lt;chr&gt; | Taxon_name &lt;chr&gt; | Attribute &lt;chr&gt; | Attribute_value &lt;chr&gt; | Evidence &lt;chr&gt; | Confidence_interval &lt;chr&gt; |\n",
       "|---|---|---|---|---|---|---|---|\n",
       "| 162156 | NA | ERS852512 | uncultured Bacteroides sp. | endospore | FALSE | EXP | Usually |\n",
       "|    823 | NA | ERS852513 | Parabacteroides distasonis | endospore | FALSE | EXP | Usually |\n",
       "| 162156 | NA | ERS852418 | uncultured Bacteroides sp. | endospore | FALSE | EXP | Usually |\n",
       "|    823 | NA | ERS852560 | Parabacteroides distasonis | endospore | FALSE | EXP | Usually |\n",
       "|    823 | NA | ERS852380 | Parabacteroides distasonis | endospore | FALSE | EXP | Usually |\n",
       "| 338188 | NA | ERS852397 | Bacteroides finegoldii     | endospore | FALSE | EXP | Usually |\n",
       "\n"
      ],
      "text/plain": [
       "  NCBI_ID Genome_ID Accession_ID Taxon_name                 Attribute\n",
       "1 162156  NA        ERS852512    uncultured Bacteroides sp. endospore\n",
       "2    823  NA        ERS852513    Parabacteroides distasonis endospore\n",
       "3 162156  NA        ERS852418    uncultured Bacteroides sp. endospore\n",
       "4    823  NA        ERS852560    Parabacteroides distasonis endospore\n",
       "5    823  NA        ERS852380    Parabacteroides distasonis endospore\n",
       "6 338188  NA        ERS852397    Bacteroides finegoldii     endospore\n",
       "  Attribute_value Evidence Confidence_interval\n",
       "1 FALSE           EXP      Usually            \n",
       "2 FALSE           EXP      Usually            \n",
       "3 FALSE           EXP      Usually            \n",
       "4 FALSE           EXP      Usually            \n",
       "5 FALSE           EXP      Usually            \n",
       "6 FALSE           EXP      Usually            "
      ]
     },
     "metadata": {},
     "output_type": "display_data"
    }
   ],
   "source": [
    "## edited\n",
    "spore_shape_edited_2 %>% \n",
    "    filter(Accession_ID %in% sra_ids) %>% \n",
    "    select(-Attribute_source) %>% \n",
    "    head()"
   ]
  },
  {
   "cell_type": "markdown",
   "id": "9ddae413-70a0-44ce-8bf1-62ad0d0d3d7f",
   "metadata": {},
   "source": [
    "The dataset is five elments shorter because some Genome IDs do not exist neither in the ncbi\n",
    "or the orginial source of the attributes. Probably these entries were created by AutoFill:"
   ]
  },
  {
   "cell_type": "code",
   "execution_count": 387,
   "id": "c5b6ff9d-3ceb-4de4-8f26-b2facb518d0e",
   "metadata": {},
   "outputs": [
    {
     "data": {
      "text/html": [
       "<style>\n",
       ".list-inline {list-style: none; margin:0; padding: 0}\n",
       ".list-inline>li {display: inline-block}\n",
       ".list-inline>li:not(:last-child)::after {content: \"\\00b7\"; padding: 0 .5ex}\n",
       "</style>\n",
       "<ol class=list-inline><li>1547</li><li>9</li></ol>\n"
      ],
      "text/latex": [
       "\\begin{enumerate*}\n",
       "\\item 1547\n",
       "\\item 9\n",
       "\\end{enumerate*}\n"
      ],
      "text/markdown": [
       "1. 1547\n",
       "2. 9\n",
       "\n",
       "\n"
      ],
      "text/plain": [
       "[1] 1547    9"
      ]
     },
     "metadata": {},
     "output_type": "display_data"
    }
   ],
   "source": [
    "dim(spore_shape)"
   ]
  },
  {
   "cell_type": "code",
   "execution_count": 388,
   "id": "1328a0f3-2e7d-4836-9e99-93c6cf6825a6",
   "metadata": {},
   "outputs": [
    {
     "data": {
      "text/html": [
       "<style>\n",
       ".list-inline {list-style: none; margin:0; padding: 0}\n",
       ".list-inline>li {display: inline-block}\n",
       ".list-inline>li:not(:last-child)::after {content: \"\\00b7\"; padding: 0 .5ex}\n",
       "</style>\n",
       "<ol class=list-inline><li>1542</li><li>9</li></ol>\n"
      ],
      "text/latex": [
       "\\begin{enumerate*}\n",
       "\\item 1542\n",
       "\\item 9\n",
       "\\end{enumerate*}\n"
      ],
      "text/markdown": [
       "1. 1542\n",
       "2. 9\n",
       "\n",
       "\n"
      ],
      "text/plain": [
       "[1] 1542    9"
      ]
     },
     "metadata": {},
     "output_type": "display_data"
    }
   ],
   "source": [
    "dim(spore_shape_edited_2)"
   ]
  },
  {
   "cell_type": "code",
   "execution_count": 393,
   "id": "88accb77-3eed-4373-8fdf-81dbb5750780",
   "metadata": {},
   "outputs": [
    {
     "data": {
      "text/html": [
       "<style>\n",
       ".list-inline {list-style: none; margin:0; padding: 0}\n",
       ".list-inline>li {display: inline-block}\n",
       ".list-inline>li:not(:last-child)::after {content: \"\\00b7\"; padding: 0 .5ex}\n",
       "</style>\n",
       "<ol class=list-inline><li>'GCF_000350165.2'</li><li>'GCF_000350165.3'</li><li>'GCF_000350165.4'</li><li>'GCF_000350165.5'</li><li>'GCF_000350165.6'</li></ol>\n"
      ],
      "text/latex": [
       "\\begin{enumerate*}\n",
       "\\item 'GCF\\_000350165.2'\n",
       "\\item 'GCF\\_000350165.3'\n",
       "\\item 'GCF\\_000350165.4'\n",
       "\\item 'GCF\\_000350165.5'\n",
       "\\item 'GCF\\_000350165.6'\n",
       "\\end{enumerate*}\n"
      ],
      "text/markdown": [
       "1. 'GCF_000350165.2'\n",
       "2. 'GCF_000350165.3'\n",
       "3. 'GCF_000350165.4'\n",
       "4. 'GCF_000350165.5'\n",
       "5. 'GCF_000350165.6'\n",
       "\n",
       "\n"
      ],
      "text/plain": [
       "[1] \"GCF_000350165.2\" \"GCF_000350165.3\" \"GCF_000350165.4\" \"GCF_000350165.5\"\n",
       "[5] \"GCF_000350165.6\""
      ]
     },
     "metadata": {},
     "output_type": "display_data"
    }
   ],
   "source": [
    "assembly_ids_1[!assembly_ids_1 %in% retrieved_ids_tbl$Genome_ID]"
   ]
  },
  {
   "cell_type": "code",
   "execution_count": 410,
   "id": "5ef7c974-1af2-4ef0-af16-830ed20250d1",
   "metadata": {},
   "outputs": [],
   "source": [
    "## Save the new dataset as tsv\n",
    "readr::write_tsv(spore_shape_edited_2, \"spore_shape_edited.tsv\")"
   ]
  },
  {
   "cell_type": "code",
   "execution_count": null,
   "id": "e5ac1ab5-02ec-4131-96d4-d75a2d25dd62",
   "metadata": {},
   "outputs": [],
   "source": []
  }
 ],
 "metadata": {
  "kernelspec": {
   "display_name": "R",
   "language": "R",
   "name": "ir"
  },
  "language_info": {
   "codemirror_mode": "r",
   "file_extension": ".r",
   "mimetype": "text/x-r-source",
   "name": "R",
   "pygments_lexer": "r",
   "version": "4.1.1"
  }
 },
 "nbformat": 4,
 "nbformat_minor": 5
}
